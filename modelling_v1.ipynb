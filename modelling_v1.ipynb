{
 "cells": [
  {
   "cell_type": "code",
   "execution_count": null,
   "id": "f22c52cb",
   "metadata": {},
   "outputs": [],
   "source": [
    "from matplotlib import pyplot as plt\n",
    "\n",
    "import numpy as np\n",
    "\n",
    "import pandas as pd\n",
    "\n",
    "from sklearn.compose import TransformedTargetRegressor\n",
    "from sklearn.linear_model import LinearRegression\n",
    "from sklearn.metrics import mean_absolute_error, r2_score\n",
    "from sklearn.model_selection import train_test_split\n",
    "from sklearn.preprocessing import PowerTransformer, StandardScaler\n",
    "\n",
    "from utils.prepare_data import clean_data, filter_rows_by_std, get_magnitude_diffs, load_data\n",
    "\n",
    "\n",
    "plt.style.use('seaborn-darkgrid')\n",
    "plt.rcParams[\"figure.figsize\"] = (10, 10)\n"
   ]
  },
  {
   "cell_type": "markdown",
   "id": "5e4af517",
   "metadata": {},
   "source": [
    "# Data preparation"
   ]
  },
  {
   "cell_type": "code",
   "execution_count": null,
   "id": "2985d8f6",
   "metadata": {},
   "outputs": [],
   "source": [
    "# load the data\n",
    "df = load_data()\n",
    "df = clean_data(df)"
   ]
  },
  {
   "cell_type": "code",
   "execution_count": null,
   "id": "1fa2b0fc",
   "metadata": {},
   "outputs": [],
   "source": [
    "# check NAs\n",
    "for x in df.columns:\n",
    "    try:\n",
    "        s = sum([np.isnan(y) for y in df[x].values])\n",
    "        if s:\n",
    "            print(x, 'have', s, 'missing data')\n",
    "    except:\n",
    "        print('non-numeric column: ', x)"
   ]
  },
  {
   "cell_type": "markdown",
   "id": "4d32f3e9",
   "metadata": {},
   "source": [
    "# Modelling"
   ]
  },
  {
   "cell_type": "markdown",
   "id": "7ecf1332",
   "metadata": {},
   "source": [
    "## Magnitude diffs & excessive cleanup"
   ]
  },
  {
   "cell_type": "code",
   "execution_count": null,
   "id": "30df1081",
   "metadata": {},
   "outputs": [],
   "source": [
    "df = clean_data(df)  # Basic cleaning\n",
    "# construct the magnitude differences\n",
    "ordered_mag_columns = ['magcr3', 'magbr3', 'magar3', 'bpmag', 'gmag', 'rpmag', 'jmag', 'kmag']\n",
    "df_diffs = get_magnitude_diffs(df, ordered_mag_columns)\n",
    "df_diffs['bpmag_rpmag'] = df['bpmag'] - df['rpmag']\n",
    "# filter Na's and measurements with too large standard deviations\n",
    "df_diffs_filtered = filter_rows_by_std(df_diffs, df, std_thresholds={\n",
    "    'sigcr3': 0.05,\n",
    "    'sigbr3': 0.05,\n",
    "    'sigar3': 0.05,\n",
    "    'ejmag': 0.05,\n",
    "    'ekmag': 0.05,\n",
    "}).dropna()"
   ]
  },
  {
   "cell_type": "code",
   "execution_count": null,
   "id": "18d2b481",
   "metadata": {},
   "outputs": [],
   "source": [
    "df.shape[0], df_diffs.shape[0], df_diffs_filtered.shape[0]"
   ]
  },
  {
   "cell_type": "markdown",
   "id": "d44c8cfd",
   "metadata": {},
   "source": [
    "## Predicting magnitudes from gravity, temperature and chemistry"
   ]
  },
  {
   "cell_type": "markdown",
   "id": "4a50bf64",
   "metadata": {},
   "source": [
    "### Field shifts from Bayesian MCMC approach"
   ]
  },
  {
   "cell_type": "code",
   "execution_count": null,
   "id": "fc7feee4",
   "metadata": {},
   "outputs": [],
   "source": [
    "df['cb_field_shift'] = df['field'].map({\n",
    "    'Field-1': 0.3319922760263798,\n",
    "    'Field-2': 0.41525421695893566,\n",
    "    'Field-3': 0.4374036431066466,\n",
    "    'Field-4': 0.41137730050813004,\n",
    "    'Field-5': 0.35876049518667247,\n",
    "    'Field-6': 0.42670825326670114,\n",
    "    'Field-8': 0.4220114380659433,\n",
    "    'Field-9': 0.38748489552795107,\n",
    "    'Field-10': 0.38493277215437155,\n",
    "    'Field-11': 0.3910498880361436,\n",
    "    'Field-15': 0.37523785738068216,\n",
    "    'Field-16': 0.37873686102483073,\n",
    "    'Field-17': 0.37748938994827175,\n",
    "    'Field-18': 0.3650478096668249,\n",
    "    'Field-19': 0.39866733152517186,\n",
    "    'Field-20': 0.39821298519891424,\n",
    "    'Field-24': 0.42353001068319074,\n",
    "    'Field-25': 0.432486767263635,\n",
    "    'Field-27': 0.40814162530040954,\n",
    "    'Field-28': 0.37364547999152314,\n",
    "    'Field-29': 0.4262784749766956,\n",
    "    'Field-32': 0.4809766006917441,\n",
    "    'Field-33': 0.42479356859998646,\n",
    "    'Field-34': 0.4177341235655455,\n",
    "    'Field-35': 0.45922559449923883,\n",
    "    'Field-38': 0.5008953767354531,\n",
    "    'Field-39': 0.3607422231174212,\n",
    "    'Field-40': 0.3808902958085871,\n",
    "    'Field-41': 0.3588893561248595,\n",
    "    'Field-42': 0.36663408584866286,\n",
    "    'Field-45': 0.3572882366819113,\n",
    "    'Field-46': 0.36898328437951294,\n",
    "    'Field-47': 0.40957565746657026,\n",
    "})\n",
    "\n",
    "df['ba_field_shift'] = df['field'].map({\n",
    "    'Field-1': 0.18080835515053956,\n",
    "    'Field-2': 0.19971150768603052,\n",
    "    'Field-3': 0.16673795188561255,\n",
    "    'Field-4': 0.22764694756560977,\n",
    "    'Field-5': 0.16393258009286565,\n",
    "    'Field-6': 0.2218356785159324,\n",
    "    'Field-8': 0.21095491325215732,\n",
    "    'Field-9': 0.19161996881699248,\n",
    "    'Field-10': 0.1837026412942269,\n",
    "    'Field-11': 0.18115561005808317,\n",
    "    'Field-15': 0.15200887755485093,\n",
    "    'Field-16': 0.1656647564454164,\n",
    "    'Field-17': 0.1667862329753091,\n",
    "    'Field-18': 0.13141335282697575,\n",
    "    'Field-19': 0.12365755419411407,\n",
    "    'Field-20': 0.23729289979478213,\n",
    "    'Field-24': 0.15642818357320198,\n",
    "    'Field-25': 0.1840500586940485,\n",
    "    'Field-27': 0.22263591110330505,\n",
    "    'Field-28': 0.14583983959304825,\n",
    "    'Field-29': 0.1633080989641097,\n",
    "    'Field-32': 0.10157314049954563,\n",
    "    'Field-33': 0.1320147960009749,\n",
    "    'Field-34': 0.14638373988925385,\n",
    "    'Field-35': 0.1275999413428845,\n",
    "    'Field-38': 0.12160791831422073,\n",
    "    'Field-39': 0.17665871089194196,\n",
    "    'Field-40': 0.1635198872846553,\n",
    "    'Field-41': 0.2009430095532145,\n",
    "    'Field-42': 0.1866283299753808,\n",
    "    'Field-45': 0.1722000325556393,\n",
    "    'Field-46': 0.15581685616524635,\n",
    "    'Field-47': 0.22921627154498236,\n",
    "})\n"
   ]
  },
  {
   "cell_type": "markdown",
   "id": "1dd2a9a0",
   "metadata": {},
   "source": [
    "### Modeling C-B magnitude diffs"
   ]
  },
  {
   "cell_type": "code",
   "execution_count": null,
   "id": "b440bd93",
   "metadata": {},
   "outputs": [],
   "source": [
    "X_use = df[['cafe', 'feh', 'teff', 'logg']].loc[df_diffs_filtered.index]\n",
    "\n",
    "# C-B\n",
    "y_use = df_diffs_filtered['magcr3_magbr3']\n",
    "\n",
    "X_train, X_test, y_train, y_test = train_test_split(X_use, y_use, test_size=0.25, random_state=314)"
   ]
  },
  {
   "cell_type": "code",
   "execution_count": null,
   "id": "f7c88483",
   "metadata": {},
   "outputs": [],
   "source": [
    "normalizer = StandardScaler()\n",
    "X_train = pd.DataFrame(\n",
    "    data=normalizer.fit_transform(X_train),\n",
    "    columns=['cafe', 'feh', 'teff', 'logg']\n",
    ")\n",
    "\n",
    "X_test = pd.DataFrame(\n",
    "    data=normalizer.transform(X_test),\n",
    "    columns=['cafe', 'feh', 'teff', 'logg']\n",
    ")"
   ]
  },
  {
   "cell_type": "code",
   "execution_count": null,
   "id": "ed4f86a5",
   "metadata": {},
   "outputs": [],
   "source": [
    "m_cb = LinearRegression()\n",
    "m_cb.fit(X_train, y_train)"
   ]
  },
  {
   "cell_type": "code",
   "execution_count": null,
   "id": "afafeebc",
   "metadata": {},
   "outputs": [],
   "source": [
    "y_train_predict = m_cb.predict(X_train)\n",
    "y_test_predict = m_cb.predict(X_test)\n",
    "\n",
    "y_min = min(min(y_use), min(y_train_predict), min(y_test_predict))\n",
    "y_max = max(max(y_use), max(y_train_predict), max(y_test_predict))\n",
    "plt.scatter(y_train, y_train_predict, alpha=.6, label='train')\n",
    "plt.scatter(y_test, y_test_predict, alpha=.6, color='r', label='test')\n",
    "plt.plot([y_min, y_max], [y_min, y_max], color='g', linestyle=':')\n",
    "plt.xlabel('True C-B value')\n",
    "plt.ylabel('Predicted C-B value')\n",
    "plt.legend()\n",
    "\n",
    "print('Mean absolute error on train/test set and R2 score on train/test set:',\n",
    "      (mean_absolute_error(y_train, y_train_predict),\n",
    "       mean_absolute_error(y_test, y_test_predict),\n",
    "       r2_score(y_train, y_train_predict),\n",
    "       r2_score(y_test, y_test_predict)))"
   ]
  },
  {
   "cell_type": "code",
   "execution_count": null,
   "id": "4afbd315",
   "metadata": {},
   "outputs": [],
   "source": [
    "# USE appropriate shift\n",
    "y_train = y_train - df['cb_field_shift'][y_train.index]\n",
    "y_test = y_test - df['cb_field_shift'][y_test.index]"
   ]
  },
  {
   "cell_type": "code",
   "execution_count": null,
   "id": "c0ede084",
   "metadata": {},
   "outputs": [],
   "source": [
    "m_cb = LinearRegression()\n",
    "m_cb.fit(X_train, y_train)"
   ]
  },
  {
   "cell_type": "code",
   "execution_count": null,
   "id": "424d2204",
   "metadata": {},
   "outputs": [],
   "source": [
    "y_train_predict = m_cb.predict(X_train)\n",
    "y_test_predict = m_cb.predict(X_test)\n",
    "\n",
    "y_min = min(min(y_use), min(y_train_predict), min(y_test_predict))\n",
    "y_max = max(max(y_use), max(y_train_predict), max(y_test_predict))\n",
    "plt.scatter(y_train, y_train_predict, alpha=.6, label='train')\n",
    "plt.scatter(y_test, y_test_predict, alpha=.6, color='r', label='test')\n",
    "plt.plot([y_min, y_max], [y_min, y_max], color='g', linestyle=':')\n",
    "plt.xlabel('True C-B value')\n",
    "plt.ylabel('Predicted C-B value')\n",
    "plt.legend()\n",
    "\n",
    "print('Mean absolute error on train/test set and R2 score on train/test set:',\n",
    "      (mean_absolute_error(y_train, y_train_predict),\n",
    "       mean_absolute_error(y_test, y_test_predict),\n",
    "       r2_score(y_train, y_train_predict),\n",
    "       r2_score(y_test, y_test_predict)))"
   ]
  },
  {
   "cell_type": "code",
   "execution_count": null,
   "id": "33ec4dd5",
   "metadata": {},
   "outputs": [],
   "source": [
    "m_cb = TransformedTargetRegressor(\n",
    "    regressor=LinearRegression(),\n",
    "    transformer=PowerTransformer()\n",
    ")\n",
    "m_cb.fit(X_train, y_train)\n"
   ]
  },
  {
   "cell_type": "code",
   "execution_count": null,
   "id": "9f86c8eb",
   "metadata": {},
   "outputs": [],
   "source": [
    "y_train_predict = m_cb.predict(X_train)\n",
    "y_test_predict = m_cb.predict(X_test)\n",
    "\n",
    "y_min = min(min(y_use), min(y_train_predict), min(y_test_predict))\n",
    "y_max = max(max(y_use), max(y_train_predict), max(y_test_predict))\n",
    "plt.scatter(y_train, y_train_predict, alpha=.6, label='train')\n",
    "plt.scatter(y_test, y_test_predict, alpha=.6, color='r', label='test')\n",
    "plt.plot([y_min, y_max], [y_min, y_max], color='g', linestyle=':')\n",
    "plt.xlabel('True C-B value')\n",
    "plt.ylabel('Predicted C-B value')\n",
    "plt.legend()\n",
    "\n",
    "print('Mean absolute error on train/test set and R2 score on train/test set:',\n",
    "      (mean_absolute_error(y_train, y_train_predict),\n",
    "       mean_absolute_error(y_test, y_test_predict),\n",
    "       r2_score(y_train, y_train_predict),\n",
    "       r2_score(y_test, y_test_predict)))"
   ]
  },
  {
   "cell_type": "code",
   "execution_count": null,
   "id": "7469d784",
   "metadata": {},
   "outputs": [],
   "source": [
    "y_train = (y_train+.75)**(1/3)\n",
    "y_test = (y_test+.75)**(1/3)"
   ]
  },
  {
   "cell_type": "code",
   "execution_count": null,
   "id": "b68b1f81",
   "metadata": {},
   "outputs": [],
   "source": [
    "m_cb = LinearRegression()\n",
    "m_cb.fit(X_train, y_train)"
   ]
  },
  {
   "cell_type": "code",
   "execution_count": null,
   "id": "58717abb",
   "metadata": {},
   "outputs": [],
   "source": [
    "# Invert transformed target and predictions\n",
    "y_train = y_train**3 - .75\n",
    "y_test = y_test**3 - .75\n",
    "y_train_predict = m_cb.predict(X_train)**3 - .75\n",
    "y_test_predict = m_cb.predict(X_test)**3 - .75\n",
    "\n",
    "\n",
    "y_min = min(min(y_use), min(y_train_predict), min(y_test_predict))\n",
    "y_max = max(max(y_use), max(y_train_predict), max(y_test_predict))\n",
    "plt.scatter(y_train, y_train_predict, alpha=.6, label='train')\n",
    "plt.scatter(y_test, y_test_predict, alpha=.6, color='r', label='test')\n",
    "plt.plot([y_min, y_max], [y_min, y_max], color='g', linestyle=':')\n",
    "plt.xlabel('True C-B value')\n",
    "plt.ylabel('Predicted C-B value')\n",
    "plt.legend()\n",
    "\n",
    "print('Mean absolute error on train/test set and R2 score on train/test set:',\n",
    "      (mean_absolute_error(y_train, y_train_predict),\n",
    "       mean_absolute_error(y_test, y_test_predict),\n",
    "       r2_score(y_train, y_train_predict),\n",
    "       r2_score(y_test, y_test_predict)))\n",
    "\n",
    "# Negative B-A values looks suspicious ...\n",
    "# plt.scatter(y_train[df_diffs_filtered['magbr3_magar3'][y_train.index]<0]**3-.75,\n",
    "#             m.predict(X_train)[df_diffs_filtered['magbr3_magar3'][y_train.index]<0]**3-.75, color='k')\n",
    "# plt.scatter(y_test[df_diffs_filtered['magbr3_magar3'][y_test.index]<0]**3-.75,\n",
    "#             m.predict(X_test)[df_diffs_filtered['magbr3_magar3'][y_test.index]<0]**3-.75, color='k')\n"
   ]
  },
  {
   "cell_type": "markdown",
   "id": "1dd2a9a0",
   "metadata": {},
   "source": [
    "### Modeling B-A magnitude diffs"
   ]
  },
  {
   "cell_type": "code",
   "execution_count": null,
   "id": "b440bd93",
   "metadata": {},
   "outputs": [],
   "source": [
    "X_use = df[['cafe', 'feh', 'teff', 'logg']].loc[df_diffs_filtered.index]\n",
    "\n",
    "# B-A\n",
    "y_use = df_diffs_filtered['magbr3_magar3']\n",
    "\n",
    "X_train, X_test, y_train, y_test = train_test_split(X_use, y_use, test_size=0.25, random_state=314)"
   ]
  },
  {
   "cell_type": "code",
   "execution_count": null,
   "id": "f7c88483",
   "metadata": {},
   "outputs": [],
   "source": [
    "normalizer = StandardScaler()\n",
    "X_train = pd.DataFrame(\n",
    "    data=normalizer.fit_transform(X_train),\n",
    "    columns=['cafe', 'feh', 'teff', 'logg']\n",
    ")\n",
    "\n",
    "X_test = pd.DataFrame(\n",
    "    data=normalizer.transform(X_test),\n",
    "    columns=['cafe', 'feh', 'teff', 'logg']\n",
    ")"
   ]
  },
  {
   "cell_type": "code",
   "execution_count": null,
   "id": "ed4f86a5",
   "metadata": {},
   "outputs": [],
   "source": [
    "m_ba = LinearRegression()\n",
    "m_ba.fit(X_train, y_train)"
   ]
  },
  {
   "cell_type": "code",
   "execution_count": null,
   "id": "afafeebc",
   "metadata": {},
   "outputs": [],
   "source": [
    "y_train_predict = m_ba.predict(X_train)\n",
    "y_test_predict = m_ba.predict(X_test)\n",
    "\n",
    "y_min = min(min(y_use), min(y_train_predict), min(y_test_predict))\n",
    "y_max = max(max(y_use), max(y_train_predict), max(y_test_predict))\n",
    "plt.scatter(y_train, y_train_predict, alpha=.6, label='train')\n",
    "plt.scatter(y_test, y_test_predict, alpha=.6, color='r', label='test')\n",
    "plt.plot([y_min, y_max], [y_min, y_max], color='g', linestyle=':')\n",
    "plt.xlabel('True B-A value')\n",
    "plt.ylabel('Predicted B-A value')\n",
    "plt.legend()\n",
    "\n",
    "print('Mean absolute error on train/test set and R2 score on train/test set:',\n",
    "      (mean_absolute_error(y_train, y_train_predict),\n",
    "       mean_absolute_error(y_test, y_test_predict),\n",
    "       r2_score(y_train, y_train_predict),\n",
    "       r2_score(y_test, y_test_predict)))"
   ]
  },
  {
   "cell_type": "code",
   "execution_count": null,
   "id": "4afbd315",
   "metadata": {},
   "outputs": [],
   "source": [
    "# USE appropriate shift\n",
    "y_train = y_train - df['ba_field_shift'][y_train.index]\n",
    "y_test = y_test - df['ba_field_shift'][y_test.index]"
   ]
  },
  {
   "cell_type": "code",
   "execution_count": null,
   "id": "c0ede084",
   "metadata": {},
   "outputs": [],
   "source": [
    "m_ba = LinearRegression()\n",
    "m_ba.fit(X_train, y_train)"
   ]
  },
  {
   "cell_type": "code",
   "execution_count": null,
   "id": "424d2204",
   "metadata": {},
   "outputs": [],
   "source": [
    "y_train_predict = m_ba.predict(X_train)\n",
    "y_test_predict = m_ba.predict(X_test)\n",
    "\n",
    "y_min = min(min(y_use), min(y_train_predict), min(y_test_predict))\n",
    "y_max = max(max(y_use), max(y_train_predict), max(y_test_predict))\n",
    "plt.scatter(y_train, y_train_predict, alpha=.6, label='train')\n",
    "plt.scatter(y_test, y_test_predict, alpha=.6, color='r', label='test')\n",
    "plt.plot([y_min, y_max], [y_min, y_max], color='g', linestyle=':')\n",
    "plt.xlabel('True B-A value')\n",
    "plt.ylabel('Predicted B-A value')\n",
    "plt.legend()\n",
    "\n",
    "print('Mean absolute error on train/test set and R2 score on train/test set:',\n",
    "      (mean_absolute_error(y_train, y_train_predict),\n",
    "       mean_absolute_error(y_test, y_test_predict),\n",
    "       r2_score(y_train, y_train_predict),\n",
    "       r2_score(y_test, y_test_predict)))"
   ]
  },
  {
   "cell_type": "markdown",
   "id": "1dd2a9a0",
   "metadata": {},
   "source": [
    "### Modeling J-K magnitude diffs"
   ]
  },
  {
   "cell_type": "code",
   "execution_count": null,
   "id": "b440bd93",
   "metadata": {},
   "outputs": [],
   "source": [
    "X_use = df[['cafe', 'feh', 'teff', 'logg']].loc[df_diffs_filtered.index]\n",
    "\n",
    "# J-K\n",
    "y_use = df_diffs_filtered['jmag_kmag']\n",
    "y_use = y_use**(1/2)\n",
    "\n",
    "X_train, X_test, y_train, y_test = train_test_split(X_use, y_use, test_size=0.25, random_state=314)"
   ]
  },
  {
   "cell_type": "code",
   "execution_count": null,
   "id": "f7c88483",
   "metadata": {},
   "outputs": [],
   "source": [
    "normalizer = StandardScaler()\n",
    "X_train = pd.DataFrame(\n",
    "    data=normalizer.fit_transform(X_train),\n",
    "    columns=['cafe', 'feh', 'teff', 'logg']\n",
    ")\n",
    "\n",
    "X_test = pd.DataFrame(\n",
    "    data=normalizer.transform(X_test),\n",
    "    columns=['cafe', 'feh', 'teff', 'logg']\n",
    ")"
   ]
  },
  {
   "cell_type": "code",
   "execution_count": null,
   "id": "ed4f86a5",
   "metadata": {},
   "outputs": [],
   "source": [
    "m_jk = LinearRegression()\n",
    "m_jk.fit(X_train, y_train)"
   ]
  },
  {
   "cell_type": "code",
   "execution_count": null,
   "id": "afafeebc",
   "metadata": {},
   "outputs": [],
   "source": [
    "# Inverse transform target and predictions\n",
    "y_train = y_train**2\n",
    "y_test = y_test**2\n",
    "y_train_predict = m_jk.predict(X_train)**2\n",
    "y_test_predict = m_jk.predict(X_test)**2\n",
    "\n",
    "y_min = min(min(y_use), min(y_train_predict), min(y_test_predict))\n",
    "y_max = max(max(y_use), max(y_train_predict), max(y_test_predict))\n",
    "plt.scatter(y_train, y_train_predict, alpha=.6, label='train')\n",
    "plt.scatter(y_test, y_test_predict, alpha=.6, color='r', label='test')\n",
    "plt.plot([y_min, y_max], [y_min, y_max], color='g', linestyle=':')\n",
    "plt.xlabel('True J-K value')\n",
    "plt.ylabel('Predicted J-K value')\n",
    "plt.legend()\n",
    "\n",
    "print('Mean absolute error on train/test set and R2 score on train/test set:',\n",
    "      (mean_absolute_error(y_train, y_train_predict),\n",
    "       mean_absolute_error(y_test, y_test_predict),\n",
    "       r2_score(y_train, y_train_predict),\n",
    "       r2_score(y_test, y_test_predict)))"
   ]
  },
  {
   "cell_type": "markdown",
   "id": "1dd2a9a0",
   "metadata": {},
   "source": [
    "### Modeling Bp-Rp magnitude diffs"
   ]
  },
  {
   "cell_type": "code",
   "execution_count": null,
   "id": "b440bd93",
   "metadata": {},
   "outputs": [],
   "source": [
    "X_use = df[['cafe', 'feh', 'teff', 'logg']].loc[df_diffs_filtered.index]\n",
    "\n",
    "# Bp-Rp\n",
    "y_use = df_diffs_filtered['bpmag_rpmag']\n",
    "y_use = y_use**(1/2)\n",
    "\n",
    "X_train, X_test, y_train, y_test = train_test_split(X_use, y_use, test_size=0.25, random_state=314)"
   ]
  },
  {
   "cell_type": "code",
   "execution_count": null,
   "id": "f7c88483",
   "metadata": {},
   "outputs": [],
   "source": [
    "normalizer = StandardScaler()\n",
    "X_train = pd.DataFrame(\n",
    "    data=normalizer.fit_transform(X_train),\n",
    "    columns=['cafe', 'feh', 'teff', 'logg']\n",
    ")\n",
    "\n",
    "X_test = pd.DataFrame(\n",
    "    data=normalizer.transform(X_test),\n",
    "    columns=['cafe', 'feh', 'teff', 'logg']\n",
    ")"
   ]
  },
  {
   "cell_type": "code",
   "execution_count": null,
   "id": "ed4f86a5",
   "metadata": {},
   "outputs": [],
   "source": [
    "m_br = LinearRegression()\n",
    "m_br.fit(X_train, y_train)"
   ]
  },
  {
   "cell_type": "code",
   "execution_count": null,
   "id": "afafeebc",
   "metadata": {},
   "outputs": [],
   "source": [
    "# Inverse transform target and predictions\n",
    "y_train = y_train**2\n",
    "y_test = y_test**2\n",
    "y_train_predict = m_br.predict(X_train)**2\n",
    "y_test_predict = m_br.predict(X_test)**2\n",
    "\n",
    "y_min = min(min(y_use), min(y_train_predict), min(y_test_predict))\n",
    "y_max = max(max(y_use), max(y_train_predict), max(y_test_predict))\n",
    "plt.scatter(y_train, y_train_predict, alpha=.6, label='train')\n",
    "plt.scatter(y_test, y_test_predict, alpha=.6, color='r', label='test')\n",
    "plt.plot([y_min, y_max], [y_min, y_max], color='g', linestyle=':')\n",
    "plt.xlabel('True Bp-Rp value')\n",
    "plt.ylabel('Predicted Bp-Rp value')\n",
    "plt.legend()\n",
    "\n",
    "print('Mean absolute error on train/test set and R2 score on train/test set:',\n",
    "      (mean_absolute_error(y_train, y_train_predict),\n",
    "       mean_absolute_error(y_test, y_test_predict),\n",
    "       r2_score(y_train, y_train_predict),\n",
    "       r2_score(y_test, y_test_predict)))\n"
   ]
  },
  {
   "cell_type": "code",
   "execution_count": null,
   "id": "2faf8cf4",
   "metadata": {},
   "outputs": [],
   "source": [
    "np.array([\n",
    "    m_cb.coef_, m_ba.coef_, m_jk.coef_, m_br.coef_\n",
    "])"
   ]
  },
  {
   "cell_type": "code",
   "execution_count": null,
   "id": "99c4b2d7",
   "metadata": {},
   "outputs": [],
   "source": [
    "c = [[-0.0018, 0.030, -0.097, -0.034],\n",
    "[-0.0036, 0.021, -0.15, -0],\n",
    "[0.0006, 0.001, -0.10,-0.023],\n",
    "[0.0017, 0.0095, -0.12, -0.022]]"
   ]
  },
  {
   "cell_type": "code",
   "execution_count": null,
   "id": "1c5f7454",
   "metadata": {},
   "outputs": [],
   "source": [
    "# Angles between distinct coefficient vectors\n",
    "from math import sqrt, acos, pi\n",
    "for i in range(4):\n",
    "    for j in range(i):\n",
    "        print(acos(sum([x*y for x, y in zip(c[i], c[j])]) / sqrt(sum([x**2 for x in c[i]])*sum([x**2 for x in c[j]])))*180/pi)"
   ]
  },
  {
   "cell_type": "code",
   "execution_count": null,
   "id": "8bd3bdfa",
   "metadata": {},
   "outputs": [],
   "source": []
  }
 ],
 "metadata": {
  "interpreter": {
   "hash": "242fb8207f97c296f33acf6c366d1e468ec158fb77fc4d51a9c4c6884f3da01a"
  },
  "kernelspec": {
   "display_name": "Python 3.10.4 ('p2ch')",
   "language": "python",
   "name": "python3"
  },
  "language_info": {
   "codemirror_mode": {
    "name": "ipython",
    "version": 3
   },
   "file_extension": ".py",
   "mimetype": "text/x-python",
   "name": "python",
   "nbconvert_exporter": "python",
   "pygments_lexer": "ipython3",
   "version": "3.10.4"
  }
 },
 "nbformat": 4,
 "nbformat_minor": 5
}
