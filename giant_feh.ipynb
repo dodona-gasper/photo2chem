{
 "cells": [
  {
   "cell_type": "markdown",
   "id": "21d5943e",
   "metadata": {},
   "source": [
    "# FeH relation for giants"
   ]
  },
  {
   "cell_type": "code",
   "execution_count": null,
   "id": "b36c78df",
   "metadata": {},
   "outputs": [],
   "source": [
    "from matplotlib import pyplot as plt\n",
    "\n",
    "import numpy as np\n",
    "\n",
    "import pandas as pd\n",
    "\n",
    "from sklearn.feature_selection import mutual_info_regression, SelectKBest\n",
    "from sklearn.linear_model import LinearRegression\n",
    "from sklearn.metrics import mean_absolute_error, r2_score\n",
    "from sklearn.model_selection import train_test_split, GridSearchCV, KFold, RepeatedKFold\n",
    "from sklearn.neural_network import MLPRegressor\n",
    "from sklearn.pipeline import Pipeline\n",
    "from sklearn.preprocessing import StandardScaler\n",
    "\n",
    "from utils.prepare_data import clean_data, filter_rows_by_std, get_magnitude_diffs, join_rows_from_raw, load_data\n",
    "\n",
    "\n",
    "plt.style.use('seaborn-darkgrid')\n",
    "plt.rcParams[\"figure.figsize\"] = (10, 10)"
   ]
  },
  {
   "cell_type": "markdown",
   "id": "90dc4180",
   "metadata": {},
   "source": [
    "## Prepare the data for the modelling"
   ]
  },
  {
   "cell_type": "code",
   "execution_count": null,
   "id": "a40e5d0a",
   "metadata": {},
   "outputs": [],
   "source": [
    "# load the data\n",
    "df = load_data()\n",
    "target_variable = 'feh'\n",
    "target_predictors_base = ['magbr3_magar3', 'magcr3_magbr3', 'jmag_kmag', 'bpmag_rpmag']\n",
    "# Other target predictors - extracted from target predictors base - teff & logg"
   ]
  },
  {
   "cell_type": "code",
   "execution_count": null,
   "id": "77732545",
   "metadata": {},
   "outputs": [],
   "source": [
    "df = clean_data(df)  # Basic cleaning\n",
    "# construct the magnitude differences\n",
    "ordered_mag_columns = ['magcr3', 'magbr3', 'magar3', 'bpmag', 'gmag', 'rpmag', 'jmag', 'kmag']\n",
    "df_diffs = get_magnitude_diffs(df, ordered_mag_columns)\n",
    "df_diffs['bpmag_rpmag'] = df['bpmag'] - df['rpmag']\n",
    "# filter Na's and measurements with too large standard deviations\n",
    "df_diffs_filtered = filter_rows_by_std(df_diffs, df, std_thresholds={\n",
    "    'sigcr3': 0.05,\n",
    "    'sigbr3': 0.05,\n",
    "    'sigar3': 0.05,\n",
    "    'ejmag': 0.05,\n",
    "    'ekmag': 0.05,\n",
    "}).dropna()"
   ]
  },
  {
   "cell_type": "code",
   "execution_count": null,
   "id": "4eb38508",
   "metadata": {},
   "outputs": [],
   "source": [
    "df.shape, df_diffs_filtered.shape"
   ]
  },
  {
   "cell_type": "markdown",
   "id": "42bc56b9",
   "metadata": {},
   "source": [
    "### Field shifts from Bayes model"
   ]
  },
  {
   "cell_type": "code",
   "execution_count": null,
   "id": "0d54586d",
   "metadata": {},
   "outputs": [],
   "source": [
    "df['cb_field_shift'] = df['field'].map({\n",
    "    'Field-1': 0.3319922760263798,\n",
    "    'Field-2': 0.41525421695893566,\n",
    "    'Field-3': 0.4374036431066466,\n",
    "    'Field-4': 0.41137730050813004,\n",
    "    'Field-5': 0.35876049518667247,\n",
    "    'Field-6': 0.42670825326670114,\n",
    "    'Field-8': 0.4220114380659433,\n",
    "    'Field-9': 0.38748489552795107,\n",
    "    'Field-10': 0.38493277215437155,\n",
    "    'Field-11': 0.3910498880361436,\n",
    "    'Field-15': 0.37523785738068216,\n",
    "    'Field-16': 0.37873686102483073,\n",
    "    'Field-17': 0.37748938994827175,\n",
    "    'Field-18': 0.3650478096668249,\n",
    "    'Field-19': 0.39866733152517186,\n",
    "    'Field-20': 0.39821298519891424,\n",
    "    'Field-24': 0.42353001068319074,\n",
    "    'Field-25': 0.432486767263635,\n",
    "    'Field-27': 0.40814162530040954,\n",
    "    'Field-28': 0.37364547999152314,\n",
    "    'Field-29': 0.4262784749766956,\n",
    "    'Field-32': 0.4809766006917441,\n",
    "    'Field-33': 0.42479356859998646,\n",
    "    'Field-34': 0.4177341235655455,\n",
    "    'Field-35': 0.45922559449923883,\n",
    "    'Field-38': 0.5008953767354531,\n",
    "    'Field-39': 0.3607422231174212,\n",
    "    'Field-40': 0.3808902958085871,\n",
    "    'Field-41': 0.3588893561248595,\n",
    "    'Field-42': 0.36663408584866286,\n",
    "    'Field-45': 0.3572882366819113,\n",
    "    'Field-46': 0.36898328437951294,\n",
    "    'Field-47': 0.40957565746657026,\n",
    "})\n",
    "\n",
    "df['ba_field_shift'] = df['field'].map({\n",
    "    'Field-1': 0.18080835515053956,\n",
    "    'Field-2': 0.19971150768603052,\n",
    "    'Field-3': 0.16673795188561255,\n",
    "    'Field-4': 0.22764694756560977,\n",
    "    'Field-5': 0.16393258009286565,\n",
    "    'Field-6': 0.2218356785159324,\n",
    "    'Field-8': 0.21095491325215732,\n",
    "    'Field-9': 0.19161996881699248,\n",
    "    'Field-10': 0.1837026412942269,\n",
    "    'Field-11': 0.18115561005808317,\n",
    "    'Field-15': 0.15200887755485093,\n",
    "    'Field-16': 0.1656647564454164,\n",
    "    'Field-17': 0.1667862329753091,\n",
    "    'Field-18': 0.13141335282697575,\n",
    "    'Field-19': 0.12365755419411407,\n",
    "    'Field-20': 0.23729289979478213,\n",
    "    'Field-24': 0.15642818357320198,\n",
    "    'Field-25': 0.1840500586940485,\n",
    "    'Field-27': 0.22263591110330505,\n",
    "    'Field-28': 0.14583983959304825,\n",
    "    'Field-29': 0.1633080989641097,\n",
    "    'Field-32': 0.10157314049954563,\n",
    "    'Field-33': 0.1320147960009749,\n",
    "    'Field-34': 0.14638373988925385,\n",
    "    'Field-35': 0.1275999413428845,\n",
    "    'Field-38': 0.12160791831422073,\n",
    "    'Field-39': 0.17665871089194196,\n",
    "    'Field-40': 0.1635198872846553,\n",
    "    'Field-41': 0.2009430095532145,\n",
    "    'Field-42': 0.1866283299753808,\n",
    "    'Field-45': 0.1722000325556393,\n",
    "    'Field-46': 0.15581685616524635,\n",
    "    'Field-47': 0.22921627154498236,\n",
    "})"
   ]
  },
  {
   "cell_type": "code",
   "execution_count": null,
   "id": "67f148e4",
   "metadata": {},
   "outputs": [],
   "source": [
    "X = df_diffs_filtered\n",
    "y = df[target_variable][X.index]\n",
    "\n",
    "# giant indicator\n",
    "giant_indicator = df['logg'][X.index] < 3.5"
   ]
  },
  {
   "cell_type": "markdown",
   "id": "ce00da7b",
   "metadata": {},
   "source": [
    "## Modelling"
   ]
  },
  {
   "cell_type": "markdown",
   "id": "97c173fd",
   "metadata": {},
   "source": [
    "### Model selection with original data"
   ]
  },
  {
   "cell_type": "code",
   "execution_count": null,
   "id": "235c0343",
   "metadata": {},
   "outputs": [],
   "source": [
    "X = df_diffs_filtered[['magbr3_magar3', 'magcr3_magbr3', 'jmag_kmag', 'bpmag_rpmag']]\n",
    "X = join_rows_from_raw(X, df, ['logg', 'teff'])[giant_indicator]\n",
    "y = df[target_variable][X.index]"
   ]
  },
  {
   "cell_type": "code",
   "execution_count": null,
   "id": "aadd19d6",
   "metadata": {},
   "outputs": [],
   "source": [
    "cv = RepeatedKFold(n_splits=8, n_repeats=4, random_state=314)\n",
    "\n",
    "# define the pipeline to evaluate\n",
    "normalizer = StandardScaler()\n",
    "fs = SelectKBest(score_func=mutual_info_regression)\n",
    "pipeline = Pipeline(steps=[\n",
    "    ('normalizer', normalizer),\n",
    "    ('feature_selector',fs),\n",
    "    ('neural_network', MLPRegressor(max_iter=4000))\n",
    "])\n",
    "# define the grid : from 1 to all features\n",
    "grid = {\n",
    "    'feature_selector__k': [i for i in range(2, 7)],\n",
    "    'neural_network__hidden_layer_sizes': [(9,), (12,), (16,)],\n",
    "    'neural_network__activation': ['logistic', 'tanh', 'relu'],\n",
    "    'neural_network__solver': [\n",
    "        'lbfgs',\n",
    "        # 'sgd',\n",
    "        # 'adam'\n",
    "    ],\n",
    "}\n",
    "# define the grid search\n",
    "search = GridSearchCV(\n",
    "    pipeline,\n",
    "    grid,\n",
    "    scoring='neg_mean_absolute_error',\n",
    "    n_jobs=-1,\n",
    "    cv=cv,\n",
    "    # verbose=2\n",
    ")\n",
    "# perform the search\n",
    "results = search.fit(X, y)\n",
    "# summarize best\n",
    "print(f'Best nMAE: {results.best_score_:.6f}', )\n",
    "print(f'Best Config: {results.best_params_}:', )\n",
    "\n",
    "print('Feature scores:')\n",
    "for f, sc in zip(X.columns, search.best_estimator_.get_params().get('feature_selector').scores_):\n",
    "    print(f'{f:16s} {sc:.6f}')\n",
    "print(f'Selected features: {list(X.columns[search.best_estimator_.get_params().get(\"feature_selector\").get_support()])}')"
   ]
  },
  {
   "cell_type": "code",
   "execution_count": null,
   "id": "9ef68c9d",
   "metadata": {},
   "outputs": [],
   "source": [
    "y_predicted = search.predict(X)\n",
    "plt.scatter(y, y_predicted)\n",
    "plt.plot([-1.5, .5], [-1.5, .5], color='r')\n",
    "\n",
    "r2_score(y, y_predicted), mean_absolute_error(y, y_predicted)"
   ]
  },
  {
   "cell_type": "markdown",
   "id": "f9f00d64",
   "metadata": {},
   "source": [
    "### Prepare train & test set"
   ]
  },
  {
   "cell_type": "code",
   "execution_count": null,
   "id": "147345a3",
   "metadata": {},
   "outputs": [],
   "source": [
    "X_use = df_diffs_filtered[['magbr3_magar3', 'magcr3_magbr3', 'jmag_kmag', 'bpmag_rpmag']]\n",
    "# X_use = join_rows_from_raw(X_use, df, ['teff', 'logg'])\n",
    "X_use['magcr3_magbr3'] = (X_use['magcr3_magbr3']\n",
    "                          - df['cb_field_shift'][X_use.index]\n",
    "                          + .75)**(1/3)\n",
    "X_use['magbr3_magar3'] = X_use['magbr3_magar3'] - df['ba_field_shift'][X_use.index]\n",
    "X_use['jmag_kmag'] = (X_use['jmag_kmag'])**(1/2)\n",
    "X_use['bpmag_rpmag'] = (X_use['bpmag_rpmag'])**(1/2)\n",
    "'''\n",
    "ind = X_use.index\n",
    "cols = X_use.columns\n",
    "normalizer = StandardScaler()\n",
    "X_use = normalizer.fit_transform(X_use)\n",
    "X_use = pd.DataFrame(\n",
    "    data=X_use,\n",
    "    index=ind,\n",
    "    columns=cols\n",
    ")\n",
    "'''\n",
    "# logg and teff are well predictable from X_use, while CaFe and FeH are pure :/ \n",
    "y_use = y\n",
    "# y_use = np.cbrt(y_use)\n",
    "# y_use = y_use**3\n",
    "\n",
    "X_use = X_use[giant_indicator]\n",
    "y_use = y_use[giant_indicator]\n",
    "\n",
    "X_train, X_test, y_train, y_test = train_test_split(X_use, y_use, test_size=0.25, random_state=314)"
   ]
  },
  {
   "cell_type": "code",
   "execution_count": null,
   "id": "40dfeac8",
   "metadata": {},
   "outputs": [],
   "source": [
    "for c in ['magbr3_magar3', 'jmag_kmag', 'bpmag_rpmag', 'magcr3_magbr3']:  # X_use.columns:\n",
    "    plt.hist(X_use[c], label=c, bins=40)\n",
    "plt.legend()"
   ]
  },
  {
   "cell_type": "markdown",
   "id": "f24beeb8",
   "metadata": {},
   "source": [
    "### Fit models for teff & logg"
   ]
  },
  {
   "cell_type": "code",
   "execution_count": null,
   "id": "18dd652d",
   "metadata": {},
   "outputs": [],
   "source": [
    "teff = df['teff'][X_train.index]\n",
    "m_teff = LinearRegression()\n",
    "m_teff.fit(X_train, teff)\n",
    "teff_calc = m_teff.predict(X_train)\n",
    "logg = df['logg'][X_train.index]\n",
    "m_logg = LinearRegression()\n",
    "m_logg.fit(X_train, logg)\n",
    "logg_calc = m_logg.predict(X_train)\n",
    "X_train['teff'] = teff_calc\n",
    "X_train['logg'] = logg_calc\n",
    "\n",
    "ind = X_train.index\n",
    "cols = X_train.columns\n",
    "normalizer = StandardScaler()\n",
    "X_train = normalizer.fit_transform(X_train)\n",
    "X_train = pd.DataFrame(\n",
    "    data=X_train,\n",
    "    index=ind,\n",
    "    columns=cols\n",
    ")"
   ]
  },
  {
   "cell_type": "code",
   "execution_count": null,
   "id": "59a9072e",
   "metadata": {},
   "outputs": [],
   "source": [
    "print(f\"logg: mean_absolute_error: train: {mean_absolute_error(logg, logg_calc)}; test: {mean_absolute_error(df['logg'][X_test.index], m_logg.predict(X_test))}\")\n",
    "print(f\"logg: r2_score: train: {r2_score(logg, logg_calc)}; test: {r2_score(df['logg'][X_test.index], m_logg.predict(X_test))}\")\n",
    "\n",
    "print(f\"teff: mean_absolute_error: train: {mean_absolute_error(teff, teff_calc)}; test: {mean_absolute_error(df['teff'][X_test.index], m_teff.predict(X_test))}\")\n",
    "print(f\"teff: r2_score: train: {r2_score(teff, teff_calc)}; test: {r2_score(df['teff'][X_test.index], m_teff.predict(X_test))}\")"
   ]
  },
  {
   "cell_type": "markdown",
   "id": "509c1466",
   "metadata": {},
   "source": [
    "### Inspect models for teff & logg"
   ]
  },
  {
   "cell_type": "code",
   "execution_count": null,
   "id": "04313a6c",
   "metadata": {},
   "outputs": [],
   "source": [
    "mask = df.loggflag > .3*10**8\n",
    "alpha = .4\n",
    "\n",
    "mask = (df.magbr3 < df.magar3)*(df.magbr3 > df.magcr3)\n",
    "alpha = 1\n",
    "\n",
    "fig, axes = plt.subplots(ncols=2, nrows=2, figsize=(20, 20))\n",
    "y_min = min(min(df['logg'][X_use.index]), min(logg_calc))\n",
    "y_max = max(max(df['logg'][X_use.index]), max(logg_calc))\n",
    "axes[0, 0].scatter(df['logg'][X_train.index], logg_calc)\n",
    "# axes[0, 0].scatter(df['logg'][X_train.index][mask[X_train.index]], logg_calc[mask[X_train.index]],\n",
    "#                    color='r', alpha=alpha)\n",
    "axes[0, 0].set_title('logg from magnitude diffs on the train set')\n",
    "axes[0, 0].set_xlabel('true')\n",
    "axes[0, 0].set_ylabel('predicted')\n",
    "axes[0, 0].plot([y_min, y_max], [y_min, y_max], color='r')\n",
    "\n",
    "axes[0, 1].scatter(df['logg'][X_test.index], m_logg.predict(X_test))\n",
    "# axes[0, 1].scatter(df['logg'][X_test.index][mask[X_test.index]], m_logg.predict(X_test)[mask[X_test.index]],\n",
    "#                    color='r', alpha=alpha)\n",
    "axes[0, 1].set_title('logg from magnitude diffs on the tet set')\n",
    "axes[0, 1].set_xlabel('true')\n",
    "axes[0, 1].set_ylabel('predicted')\n",
    "axes[0, 1].plot([y_min, y_max], [y_min, y_max], color='r')\n",
    "\n",
    "# mask = df.teffflag > 100\n",
    "\n",
    "y_min = min(min(df['teff'][X_use.index]), min(teff_calc))\n",
    "y_max = max(max(df['teff'][X_use.index]), max(teff_calc))\n",
    "axes[1, 0].scatter(df['teff'][X_train.index], teff_calc)\n",
    "# axes[1, 0].scatter(df['teff'][X_train.index][mask[X_train.index]], teff_calc[mask[X_train.index]],\n",
    "#                    color='r', alpha=alpha)\n",
    "axes[1, 0].set_title('teff from magnitude diffs on the train set')\n",
    "axes[1, 0].set_xlabel('true')\n",
    "axes[1, 0].set_ylabel('predicted')\n",
    "axes[1, 0].plot([y_min, y_max], [y_min, y_max], color='r')\n",
    "\n",
    "axes[1, 1].scatter(df['teff'][X_test.index], m_teff.predict(X_test))\n",
    "# axes[1, 1].scatter(df['teff'][X_test.index][mask[X_test.index]], m_teff.predict(X_test)[mask[X_test.index]],\n",
    "#                    color='r', alpha=alpha)\n",
    "axes[1, 1].set_title('teff from magnitude diffs on the tet set')\n",
    "axes[1, 1].set_xlabel('true')\n",
    "axes[1, 1].set_ylabel('predicted')\n",
    "axes[1, 1].plot([y_min, y_max], [y_min, y_max], color='r')\n"
   ]
  },
  {
   "cell_type": "markdown",
   "id": "db43f754",
   "metadata": {},
   "source": [
    "### Fit & test model for FeH"
   ]
  },
  {
   "cell_type": "code",
   "execution_count": null,
   "id": "7eb7ed0b",
   "metadata": {},
   "outputs": [],
   "source": [
    "# Extend test set predictors with predicted teff, logg \n",
    "teff_test = m_teff.predict(X_test)\n",
    "logg_test = m_logg.predict(X_test)\n",
    "X_test['teff'] = teff_test\n",
    "X_test['logg'] = logg_test\n",
    "ind = X_test.index\n",
    "cols = X_test.columns\n",
    "X_test = normalizer.transform(X_test)\n",
    "X_test = pd.DataFrame(\n",
    "    data=X_test,\n",
    "    index=ind,\n",
    "    columns=cols\n",
    ")"
   ]
  },
  {
   "cell_type": "code",
   "execution_count": null,
   "id": "885b80c8",
   "metadata": {},
   "outputs": [],
   "source": [
    "nn_model = MLPRegressor(hidden_layer_sizes=(9,), activation='logistic', solver='lbfgs', max_iter=4000, random_state=316)\n",
    "#X_train = X_train[['magbr3_magar3', 'magcr3_magbr3', 'jmag_kmag', 'bpmag_rpmag', 'teff']]\n",
    "#X_test = X_test[['magbr3_magar3', 'magcr3_magbr3', 'jmag_kmag', 'bpmag_rpmag', 'teff']]\n",
    "nn_model.fit(X_train, y_train)"
   ]
  },
  {
   "cell_type": "code",
   "execution_count": null,
   "id": "50136482",
   "metadata": {},
   "outputs": [],
   "source": [
    "y_train_predicted = nn_model.predict(X_train)\n",
    "y_test_predicted = nn_model.predict(X_test)\n",
    "y_min = min(min(y_train), min(y_test), min(y_train_predicted), min(y_test_predicted))\n",
    "# y_min = -1\n",
    "y_max = max(max(y_train), max(y_test), max(y_train_predicted), max(y_test_predicted))\n",
    "\n",
    "fig, axes = plt.subplots(ncols=1, nrows=1, figsize=(10, 10))\n",
    "\n",
    "axes.scatter(y_train, y_train_predicted, color='b', alpha=.6, label='train')\n",
    "axes.scatter(y_test, y_test_predicted, color='r', alpha=.6, label='test')\n",
    "axes.plot([y_min, y_max], [y_min, y_max], color='g', linestyle=':')\n",
    "axes.set_xlim([y_min, y_max])\n",
    "axes.set_ylim([y_min, y_max])\n",
    "axes.set_title('True vs. predicted FeH on train and test set')\n",
    "axes.legend()\n",
    "axes.set_xlabel('true')\n",
    "axes.set_ylabel('predicted')\n",
    "\n",
    "print(f'Mean absolute error on train set: {mean_absolute_error(y_true=y_train, y_pred=y_train_predicted)}')\n",
    "print(f'r2 score on train set: {r2_score(y_true=y_train, y_pred=y_train_predicted)}')\n",
    "\n",
    "print(f'Mean absolute error on test set: {mean_absolute_error(y_true=y_test, y_pred=y_test_predicted)}')\n",
    "print(f'r2 score on test set: {r2_score(y_true=y_test, y_pred=y_test_predicted)}')"
   ]
  },
  {
   "cell_type": "markdown",
   "id": "d2c417fb",
   "metadata": {},
   "source": [
    "### Statistics"
   ]
  },
  {
   "cell_type": "code",
   "execution_count": null,
   "id": "81486932",
   "metadata": {},
   "outputs": [],
   "source": [
    "# Error distribution\n",
    "fig, axes = plt.subplots(ncols=2, nrows=1, figsize=(20, 10))\n",
    "\n",
    "axes[0].hist(y_train_predicted-y_train, color='b', bins=25)\n",
    "axes[0].set_title('Error distribution on train set')\n",
    "axes[1].hist(y_test_predicted-y_test, color='r', bins=25)\n",
    "axes[1].set_title('Error distribution on test set')\n",
    "print('Train 16-84 percentile: ', np.percentile(y_train_predicted-y_train, [16, 84]))\n",
    "print('Test 16-84 percentile: ', np.percentile(y_test_predicted-y_test, [16, 84]))"
   ]
  },
  {
   "cell_type": "code",
   "execution_count": null,
   "id": "79ee709b",
   "metadata": {},
   "outputs": [],
   "source": [
    "steps = np.linspace(start=-1, stop=.5, num=11)\n",
    "\n",
    "y_all = pd.concat([y_train, y_test])\n",
    "y_all_predicted = np.concatenate([y_train_predicted, y_test_predicted])\n",
    "\n",
    "xx, yy16, yy84 = [], [], []\n",
    "for i in range(len(steps) - 1):\n",
    "    step = (steps[i] + steps[i+1])/2\n",
    "    xx.append(step)\n",
    "    # yy16.append(np.percentile(y_all_predicted[(y_all>steps[i]) * (y_all<=steps[i+1])]-y_all[(y_all>steps[i]) * (y_all<=steps[i+1])], 16))\n",
    "    # yy84.append(np.percentile(y_all_predicted[(y_all>steps[i]) * (y_all<=steps[i+1])]-y_all[(y_all>steps[i]) * (y_all<=steps[i+1])], 84))\n",
    "    yy16.append(np.percentile(y_all_predicted[(y_all_predicted>steps[i]) * (y_all_predicted<=steps[i+1])]\n",
    "                              - y_all[(y_all_predicted>steps[i]) * (y_all_predicted<=steps[i+1])], 16))\n",
    "    yy84.append(np.percentile(y_all_predicted[(y_all_predicted>steps[i]) * (y_all_predicted<=steps[i+1])]\n",
    "                              - y_all[(y_all_predicted>steps[i]) * (y_all_predicted<=steps[i+1])], 84))\n",
    "\n",
    "y_min = min(min(y_train), min(y_test), min(y_train_predicted), min(y_test_predicted))\n",
    "# y_min = -1\n",
    "y_max = max(max(y_train), max(y_test), max(y_train_predicted), max(y_test_predicted))\n",
    "\n",
    "fig, axes = plt.subplots(ncols=1, nrows=1, figsize=(10, 10))\n",
    "\n",
    "axes.scatter(y_train, y_train_predicted, color='b', alpha=.6, label='train')\n",
    "axes.scatter(y_test, y_test_predicted, color='r', alpha=.6, label='test')\n",
    "axes.plot([y_min, y_max], [y_min, y_max], color='g', linestyle=':')\n",
    "axes.set_xlim([y_min, y_max])\n",
    "axes.set_ylim([y_min, y_max])\n",
    "\n",
    "# Errors\n",
    "# axes.plot(xx, [x0+y0 for x0, y0 in zip(xx, yy16)], color='magenta', label='16th percentile', linewidth=3)\n",
    "# axes.plot(xx, [x0+y0 for x0, y0 in zip(xx, yy84)], color='orange', label='84th percentile', linewidth=3)\n",
    "axes.plot([x0+y0 for x0, y0 in zip(xx, yy16)], xx, color='magenta', label='16th percentile', linewidth=3)\n",
    "axes.plot([x0+y0 for x0, y0 in zip(xx, yy84)], xx, color='orange', label='84th percentile', linewidth=3)\n",
    "\n",
    "axes.set_title('True vs. predicted FeH on train and test set')\n",
    "axes.legend()\n",
    "axes.set_xlabel('true')\n",
    "axes.set_ylabel('predicted')\n",
    "\n",
    "print(f'Mean absolute error on train set: {mean_absolute_error(y_true=y_train, y_pred=y_train_predicted)}')\n",
    "print(f'r2 score on train set: {r2_score(y_true=y_train, y_pred=y_train_predicted)}')\n",
    "\n",
    "print(f'Mean absolute error on test set: {mean_absolute_error(y_true=y_test, y_pred=y_test_predicted)}')\n",
    "print(f'r2 score on test set: {r2_score(y_true=y_test, y_pred=y_test_predicted)}')\n",
    "\n",
    "print('Dataset splitted to 10 chunks, 16-th and 84-th percentile of the error calculated in each chunk and the percentile lines plotted to the graph.')"
   ]
  },
  {
   "cell_type": "markdown",
   "id": "c32739c1",
   "metadata": {},
   "source": [
    "### Removing evaluated teff and logg, try with original"
   ]
  },
  {
   "cell_type": "markdown",
   "id": "5d2caf66",
   "metadata": {},
   "source": [
    "No teff/logg at all - larger mean absolute errors."
   ]
  },
  {
   "cell_type": "code",
   "execution_count": null,
   "id": "d7c91a41",
   "metadata": {},
   "outputs": [],
   "source": [
    "X = df_diffs_filtered[['magbr3_magar3', 'magcr3_magbr3', 'jmag_kmag', 'bpmag_rpmag']]\n",
    "y = df[target_variable][X.index]\n",
    "\n",
    "X_train, X_test, y_train, y_test = train_test_split(X_use, y_use, test_size=0.25, random_state=314)"
   ]
  },
  {
   "cell_type": "code",
   "execution_count": null,
   "id": "b3332882",
   "metadata": {},
   "outputs": [],
   "source": [
    "cv = RepeatedKFold(n_splits=8, n_repeats=4, random_state=314)\n",
    "\n",
    "# define the pipeline to evaluate\n",
    "normalizer = StandardScaler()\n",
    "fs = SelectKBest(score_func=mutual_info_regression)\n",
    "pipeline = Pipeline(steps=[\n",
    "    ('normalizer', normalizer),\n",
    "    ('feature_selector',fs),\n",
    "    ('neural_network', MLPRegressor(max_iter=4000))\n",
    "])\n",
    "# define the grid : from 1 to all features\n",
    "grid = {\n",
    "    'feature_selector__k': [i for i in range(2, 5)],\n",
    "    'neural_network__hidden_layer_sizes': [(5,), (7,), (9,), (12,)],\n",
    "    'neural_network__activation': ['logistic'],\n",
    "    'neural_network__solver': ['lbfgs'],\n",
    "}\n",
    "# define the grid search\n",
    "search = GridSearchCV(\n",
    "    pipeline,\n",
    "    grid,\n",
    "    scoring='neg_mean_absolute_error',\n",
    "    n_jobs=-1,\n",
    "    cv=cv,\n",
    "    # verbose=2\n",
    ")\n",
    "# perform the search\n",
    "results = search.fit(X, y)\n",
    "# summarize best\n",
    "print(f'Best nMAE: {results.best_score_:.6f}', )\n",
    "print(f'Best Config: {results.best_params_}:', )\n",
    "\n",
    "print('Feature scores:')\n",
    "for f, sc in zip(X.columns, search.best_estimator_.get_params().get('feature_selector').scores_):\n",
    "    print(f'{f:16s} {sc:.6f}')\n",
    "print(f'Selected features: {list(X.columns[search.best_estimator_.get_params().get(\"feature_selector\").get_support()])}')"
   ]
  },
  {
   "cell_type": "code",
   "execution_count": null,
   "id": "776e27ee",
   "metadata": {},
   "outputs": [],
   "source": [
    "nn_model = MLPRegressor(hidden_layer_sizes=(7,), activation='logistic', solver='lbfgs', max_iter=4000, random_state=316)\n",
    "X_train = X_train[['magbr3_magar3', 'magcr3_magbr3', 'jmag_kmag', 'bpmag_rpmag']]\n",
    "X_test = X_test[['magbr3_magar3', 'magcr3_magbr3', 'jmag_kmag', 'bpmag_rpmag']]\n",
    "nn_model.fit(X_train, y_train)"
   ]
  },
  {
   "cell_type": "code",
   "execution_count": null,
   "id": "b864cf90",
   "metadata": {},
   "outputs": [],
   "source": [
    "y_train_predicted = nn_model.predict(X_train)\n",
    "y_test_predicted = nn_model.predict(X_test)\n",
    "y_min = min(min(y_train), min(y_test), min(y_train_predicted), min(y_test_predicted))\n",
    "# y_min = -1\n",
    "y_max = max(max(y_train), max(y_test), max(y_train_predicted), max(y_test_predicted))\n",
    "\n",
    "fig, axes = plt.subplots(ncols=1, nrows=1, figsize=(10, 10))\n",
    "\n",
    "axes.scatter(y_train, y_train_predicted, color='b', alpha=.6, label='train')\n",
    "axes.scatter(y_test, y_test_predicted, color='r', alpha=.6, label='test')\n",
    "axes.plot([y_min, y_max], [y_min, y_max], color='g', linestyle=':')\n",
    "axes.set_xlim([y_min, y_max])\n",
    "axes.set_ylim([y_min, y_max])\n",
    "axes.set_title('True vs. predicted FeH on train and test set')\n",
    "axes.legend()\n",
    "axes.set_xlabel('true')\n",
    "axes.set_ylabel('predicted')\n",
    "\n",
    "print(f'Mean absolute error on train set: {mean_absolute_error(y_true=y_train, y_pred=y_train_predicted)}')\n",
    "print(f'r2 score on train set: {r2_score(y_true=y_train, y_pred=y_train_predicted)}')\n",
    "\n",
    "print(f'Mean absolute error on test set: {mean_absolute_error(y_true=y_test, y_pred=y_test_predicted)}')\n",
    "print(f'r2 score on test set: {r2_score(y_true=y_test, y_pred=y_test_predicted)}')"
   ]
  },
  {
   "cell_type": "markdown",
   "id": "4cc23c02",
   "metadata": {},
   "source": [
    "With 'original' teff - better results"
   ]
  },
  {
   "cell_type": "code",
   "execution_count": null,
   "id": "5c80b353",
   "metadata": {},
   "outputs": [],
   "source": [
    "nn_model = MLPRegressor(hidden_layer_sizes=(7,), activation='logistic', solver='lbfgs', max_iter=4000, random_state=316)\n",
    "X_train = X_train[['magbr3_magar3', 'magcr3_magbr3', 'jmag_kmag', 'bpmag_rpmag']]\n",
    "X_train = join_rows_from_raw(X_train, df, ['teff'])\n",
    "normalizer = StandardScaler()\n",
    "X_train = normalizer.fit_transform(X_train)\n",
    "X_test = X_test[['magbr3_magar3', 'magcr3_magbr3', 'jmag_kmag', 'bpmag_rpmag']]\n",
    "X_test = join_rows_from_raw(X_test, df, ['teff'])\n",
    "X_test = normalizer.transform(X_test)\n",
    "nn_model.fit(X_train, y_train)"
   ]
  },
  {
   "cell_type": "code",
   "execution_count": null,
   "id": "9d537f40",
   "metadata": {},
   "outputs": [],
   "source": [
    "y_train_predicted = nn_model.predict(X_train)\n",
    "y_test_predicted = nn_model.predict(X_test)\n",
    "y_min = min(min(y_train), min(y_test), min(y_train_predicted), min(y_test_predicted))\n",
    "# y_min = -1\n",
    "y_max = max(max(y_train), max(y_test), max(y_train_predicted), max(y_test_predicted))\n",
    "\n",
    "fig, axes = plt.subplots(ncols=1, nrows=1, figsize=(10, 10))\n",
    "\n",
    "axes.scatter(y_train, y_train_predicted, color='b', alpha=.6, label='train')\n",
    "axes.scatter(y_test, y_test_predicted, color='r', alpha=.6, label='test')\n",
    "axes.plot([y_min, y_max], [y_min, y_max], color='g', linestyle=':')\n",
    "axes.set_xlim([y_min, y_max])\n",
    "axes.set_ylim([y_min, y_max])\n",
    "axes.set_title('True vs. predicted FeH on train and test set')\n",
    "axes.legend()\n",
    "axes.set_xlabel('true')\n",
    "axes.set_ylabel('predicted')\n",
    "\n",
    "print(f'Mean absolute error on train set: {mean_absolute_error(y_true=y_train, y_pred=y_train_predicted)}')\n",
    "print(f'r2 score on train set: {r2_score(y_true=y_train, y_pred=y_train_predicted)}')\n",
    "\n",
    "print(f'Mean absolute error on test set: {mean_absolute_error(y_true=y_test, y_pred=y_test_predicted)}')\n",
    "print(f'r2 score on test set: {r2_score(y_true=y_test, y_pred=y_test_predicted)}')"
   ]
  },
  {
   "cell_type": "markdown",
   "id": "11dc27ad",
   "metadata": {},
   "source": [
    "## Appendix: additional apogee data from Mexico"
   ]
  },
  {
   "cell_type": "markdown",
   "id": "18dea386",
   "metadata": {},
   "source": [
    "### Load and clean"
   ]
  },
  {
   "cell_type": "code",
   "execution_count": null,
   "id": "c88b5489",
   "metadata": {},
   "outputs": [],
   "source": [
    "# load the data\n",
    "df_mex = load_data(filename='mexico_labeled.csv')\n",
    "df_mex.shape"
   ]
  },
  {
   "cell_type": "code",
   "execution_count": null,
   "id": "94d9b152",
   "metadata": {},
   "outputs": [],
   "source": [
    "df_mex = clean_data(df_mex)  # Basic cleaning\n",
    "# construct the magnitude differences\n",
    "ordered_mag_columns = ['magcr3', 'magbr3', 'magar3', 'bpmag', 'gmag', 'rpmag', 'jmag', 'kmag']\n",
    "df_diffs_mex = get_magnitude_diffs(df_mex, ordered_mag_columns)\n",
    "df_diffs_mex['bpmag_rpmag'] = df_mex['bpmag'] - df_mex['rpmag']\n",
    "# filter Na's and measurements with too large standard deviations\n",
    "df_diffs_filtered_mex = filter_rows_by_std(df_diffs_mex, df_mex, std_thresholds={\n",
    "    'sigcr3': 0.05,\n",
    "    'sigbr3': 0.05,\n",
    "    'sigar3': 0.05,\n",
    "    'ejmag': 0.05,\n",
    "    'ekmag': 0.05,\n",
    "}).dropna()\n",
    "\n",
    "# Additional cleaning\n",
    "\n",
    "df_diffs_filtered_mex = df_diffs_filtered_mex[\n",
    "    (df_diffs_filtered_mex['magcr3_magbr3']>-50) \n",
    "    * (df_diffs_filtered_mex['magcr3_magbr3']<50)\n",
    "    * (df_diffs_filtered_mex['magbr3_magar3']<50)\n",
    "]\n",
    "\n",
    "df_diffs_filtered_mex.shape, len(set(df_mex.field))"
   ]
  },
  {
   "cell_type": "code",
   "execution_count": null,
   "id": "f71e4433",
   "metadata": {},
   "outputs": [],
   "source": []
  },
  {
   "cell_type": "code",
   "execution_count": null,
   "id": "57729bb4",
   "metadata": {},
   "outputs": [],
   "source": [
    "# Giants\n",
    "giant_indicator_mex = df_mex['logg'] < 3.5\n",
    "print(sum(giant_indicator_mex))\n",
    "giant_indicator_mex = giant_indicator_mex[df_diffs_filtered_mex.index]\n",
    "print(sum(giant_indicator_mex))"
   ]
  },
  {
   "cell_type": "markdown",
   "id": "39205612",
   "metadata": {},
   "source": [
    "### Additional data inspection"
   ]
  },
  {
   "cell_type": "code",
   "execution_count": null,
   "id": "cdfe76fb",
   "metadata": {},
   "outputs": [],
   "source": [
    "fig, axes = plt.subplots(ncols=2, nrows=2, figsize=(20, 20))\n",
    "\n",
    "axes[0, 0].hist(df_diffs_filtered_mex['magcr3_magbr3'][(df_diffs_filtered_mex['magcr3_magbr3']>-50) * (df_diffs_filtered_mex['magcr3_magbr3']<50)], bins = 25)\n",
    "axes[0, 1].hist(df_diffs_filtered_mex['magbr3_magar3'][df_diffs_filtered_mex['magbr3_magar3']<50], bins=25)\n",
    "axes[1, 0].hist(df_diffs_filtered_mex['jmag_kmag'], bins=25)\n",
    "axes[1, 1].hist(df_diffs_filtered_mex['bpmag_rpmag'], bins=25)"
   ]
  },
  {
   "cell_type": "code",
   "execution_count": null,
   "id": "8eb3cc4b",
   "metadata": {},
   "outputs": [],
   "source": [
    "sum((df_diffs_filtered_mex['magcr3_magbr3']>-50) * (df_diffs_filtered_mex['magcr3_magbr3']<50))"
   ]
  },
  {
   "cell_type": "markdown",
   "id": "a2243e01",
   "metadata": {},
   "source": [
    "### Re-calculate shifts"
   ]
  },
  {
   "cell_type": "code",
   "execution_count": null,
   "id": "16c980f6",
   "metadata": {},
   "outputs": [],
   "source": [
    "cb_field_shifts = {\n",
    "    'Field-1': 0.3085008050927565,\n",
    "    'Zwitter-001': 0.6378044929094755,\n",
    "    'Field-2': 0.396353091141992,\n",
    "    'Zwitter-002': 0.4215366270069197,\n",
    "    'Field-3': 0.4152001059345346,\n",
    "    'Zwitter-003': 0.5812455601267135,\n",
    "    'Field-4': 0.39102849917065374,\n",
    "    'Zwitter-005': 0.6859590774257387,\n",
    "    'Field-5': 0.3381333019903701,\n",
    "    'Zwitter-006': 0.5816987303403534,\n",
    "    'Field-6': 0.4018856301296543,\n",
    "    'Zwitter-007': 0.5167182753341542,\n",
    "    'Field-8': 0.4009829871482615,\n",
    "    'Zwitter-009': 0.641563228662612,\n",
    "    'Field-9': 0.3665552321735659,\n",
    "    'Field-10': 0.3618080992571904,\n",
    "    'Zwitter-010': 0.45525077676062653,\n",
    "    'Zwitter-011': 0.34446556171800496,\n",
    "    'Field-11': 0.36901642992659495,\n",
    "    'Zwitter-012': 0.34486052340161555,\n",
    "    'Zwitter-015': 0.21789292038826585,\n",
    "    'Field-15': 0.35060912849958054,\n",
    "    'Zwitter-016': 0.4030459240865568,\n",
    "    'Field-16': 0.3576766782298215,\n",
    "    'Field-17': 0.3571674257141912,\n",
    "    'Field-18': 0.343843886478273,\n",
    "    'Field-19': 0.3749770823363773,\n",
    "    'Field-20': 0.37708072235370926,\n",
    "    'Field-24': 0.4013473838938863,\n",
    "    'Zwitter-025': 0.2092596585716291,\n",
    "    'Field-25': 0.40710509402356093,\n",
    "    'Field-27': 0.38718069146760475,\n",
    "    'Field-28': 0.3534016314562236,\n",
    "    'Field-29': 0.39954940660111826,\n",
    "    'Field-32': 0.47857202060102744,\n",
    "    'Zwitter-032': 0.4166755173518369,\n",
    "    'Field-33': 0.4056788129018717,\n",
    "    'Field-34': 0.39452144481929746,\n",
    "    'Field-35': 0.43844880825302496,\n",
    "    'Zwitter-036': 0.6620846227384977,\n",
    "    'Field-38': 0.48422762415745146,\n",
    "    'Field-39': 0.3369308910397964,\n",
    "    'Zwitter-039': 0.2680534043876005,\n",
    "    'Field-40': 0.3605332450260206,\n",
    "    'Field-41': 0.33635976377216725,\n",
    "    'Field-42': 0.3461977364695828,\n",
    "    'Zwitter-043': 0.5266649059608399,\n",
    "    'Field-45': 0.3318460360531659,\n",
    "    'Field-46': 0.3426564246286824,\n",
    "    'Field-47': 0.3884440829920037,\n",
    "    'Zwitter-049': 0.3589795658960031,\n",
    "    'Zwitter-070': 0.4132670259681095,\n",
    "    'Zwitter-074': 0.27306509583711114,\n",
    "    'Zwitter-075': 0.27229892579794224,\n",
    "    'Zwitter-078': 0.24886548410501647,\n",
    "    'Zwitter-081': 0.37012522355791355,\n",
    "    'Zwitter-104': 0.24425816627665173,\n",
    "    'Zwitter-108': 0.3377743159741208,\n",
    "}\n",
    "\n",
    "previous_cb_shifts = {df['field'].loc[i]: df['cb_field_shift'].loc[i] for i in df.index}\n",
    "\n",
    "fields = previous_cb_shifts.keys()\n",
    "plt.scatter([previous_cb_shifts[x] for x in fields], [cb_field_shifts[x] for x in fields])\n",
    "plt.title('Previous vs. newly evaluated C-B offsets')\n",
    "\n",
    "shifts_shifts = [previous_cb_shifts[x] - cb_field_shifts[x] for x in fields]\n",
    "\n",
    "move = sum(shifts_shifts) / len(shifts_shifts)\n",
    "\n",
    "cb_field_shifts = {x: cb_field_shifts[x] + move for x in cb_field_shifts.keys()}\n",
    "\n",
    "plt.scatter([previous_cb_shifts[x] for x in fields], [cb_field_shifts[x] for x in fields], color='r')\n",
    "plt.plot([.3, .5], [.3, .5], color='g')\n",
    "\n",
    "df_mex['cb_field_shift'] = df_mex['field'].map(cb_field_shifts)"
   ]
  },
  {
   "cell_type": "code",
   "execution_count": null,
   "id": "e8e413cf",
   "metadata": {},
   "outputs": [],
   "source": [
    "ba_field_shifts = {\n",
    "    'Field-1': 0.17056282745873208,\n",
    "    'Zwitter-001': 0.2519492828443053,\n",
    "    'Field-2': 0.1900727308563549,\n",
    "    'Zwitter-002': 0.12946751731162473,\n",
    "    'Field-3': 0.15676561857692517,\n",
    "    'Zwitter-003': 0.21470618204140082,\n",
    "    'Field-4': 0.21750784155802386,\n",
    "    'Zwitter-005': 0.2610466354756117,\n",
    "    'Field-5': 0.15399322053015518,\n",
    "    'Zwitter-006': 0.2533334316382239,\n",
    "    'Field-6': 0.21176879523660022,\n",
    "    'Zwitter-007': 0.23628915342725104,\n",
    "    'Field-8': 0.20139997325647813,\n",
    "    'Zwitter-009': 0.2620847989640088,\n",
    "    'Field-9': 0.18197254591648596,\n",
    "    'Field-10': 0.17349931724220602,\n",
    "    'Zwitter-010': 0.2131233051958813,\n",
    "    'Zwitter-011': 0.08267338895080018,\n",
    "    'Field-11': 0.1709213692783184,\n",
    "    'Zwitter-012': 0.11896434975367143,\n",
    "    'Zwitter-015': 0.007262233491898352,\n",
    "    'Field-15': 0.1417001417914365,\n",
    "    'Zwitter-016': 0.13863982706869876,\n",
    "    'Field-16': 0.15561561874994098,\n",
    "    'Field-17': 0.1567116625352581,\n",
    "    'Field-18': 0.1220567170105989,\n",
    "    'Field-19': 0.1137210096360391,\n",
    "    'Field-20': 0.2270200786744885,\n",
    "    'Field-24': 0.1467555244352789,\n",
    "    'Zwitter-025': 0.007255019319873782,\n",
    "    'Field-25': 0.17422667634636751,\n",
    "    'Field-27': 0.21237181561536725,\n",
    "    'Field-28': 0.13593421935329522,\n",
    "    'Field-29': 0.15294902159566798,\n",
    "    'Field-32': 0.09153140645579726,\n",
    "    'Zwitter-032': 0.19890711997208396,\n",
    "    'Field-33': 0.12238108640800323,\n",
    "    'Field-34': 0.13612453979442343,\n",
    "    'Field-35': 0.11757561558882221,\n",
    "    'Zwitter-036': 0.32083030921177264,\n",
    "    'Field-38': 0.11246401690293864,\n",
    "    'Field-39': 0.166571980720964,\n",
    "    'Zwitter-039': 0.0583772140261829,\n",
    "    'Field-40': 0.1531174942512961,\n",
    "    'Field-41': 0.19097475960673183,\n",
    "    'Field-42': 0.1763849240689791,\n",
    "    'Zwitter-043': 0.22625650096649264,\n",
    "    'Field-45': 0.1621252746229151,\n",
    "    'Field-46': 0.1456851385293077,\n",
    "    'Field-47': 0.21890106877144494,\n",
    "    'Zwitter-049': 0.1887868019297796,\n",
    "    'Zwitter-070': 0.20278115163597124,\n",
    "    'Zwitter-074': 0.06778247337143434,\n",
    "    'Zwitter-075': 0.106845488301897,\n",
    "    'Zwitter-078': 0.005240474083212578,\n",
    "    'Zwitter-081': 0.21894648708151357,\n",
    "    'Zwitter-104': 0.07371169413303105,\n",
    "    'Zwitter-108': 0.23038539632655616,\n",
    "}\n",
    "\n",
    "previous_ba_shifts = {df['field'].loc[i]: df['ba_field_shift'].loc[i] for i in df.index}\n",
    "\n",
    "fields = previous_ba_shifts.keys()\n",
    "plt.scatter([previous_ba_shifts[x] for x in fields], [ba_field_shifts[x] for x in fields])\n",
    "plt.title('Previous vs. newly evaluated B-A offsets')\n",
    "\n",
    "shifts_shifts = [previous_ba_shifts[x] - ba_field_shifts[x] for x in previous_ba_shifts.keys()]\n",
    "\n",
    "move = sum(shifts_shifts) / len(shifts_shifts)\n",
    "\n",
    "ba_field_shifts = {x: ba_field_shifts[x] + move for x in ba_field_shifts.keys()}\n",
    "\n",
    "plt.scatter([previous_ba_shifts[x] for x in fields], [ba_field_shifts[x] for x in fields], color='r')\n",
    "plt.plot([.1, .25], [.1, .25], color='g')\n",
    "\n",
    "df_mex['ba_field_shift'] = df_mex['field'].map(ba_field_shifts)"
   ]
  },
  {
   "cell_type": "markdown",
   "id": "e746b50e",
   "metadata": {},
   "source": [
    "### Try trained model"
   ]
  },
  {
   "cell_type": "code",
   "execution_count": null,
   "id": "e8994f99",
   "metadata": {},
   "outputs": [],
   "source": [
    "X_use = df_diffs_filtered_mex[['magbr3_magar3', 'magcr3_magbr3', 'jmag_kmag', 'bpmag_rpmag']]\n",
    "# X_use = join_rows_from_raw(X_use, df, ['teff', 'logg'])\n",
    "\n",
    "X_use['magcr3_magbr3'] = (X_use['magcr3_magbr3']\n",
    "                          - df_mex['cb_field_shift'][X_use.index]\n",
    "                          + .75)**(1/3)\n",
    "X_use['magbr3_magar3'] = X_use['magbr3_magar3']  - df_mex['ba_field_shift'][X_use.index]\n",
    "X_use['jmag_kmag'] = (X_use['jmag_kmag'])**(1/2)\n",
    "X_use['bpmag_rpmag'] = (X_use['bpmag_rpmag'])**(1/2)\n",
    "\n",
    "# logg and teff are well predictable from X_use, while CaFe and FeH are pure :/ \n",
    "y_use = df_mex[target_variable][X_use.index]\n",
    "# y_use = np.cbrt(y_use)\n",
    "# y_use = y_use**3\n",
    "\n",
    "X_use = X_use[giant_indicator_mex]\n",
    "y_use = y_use[giant_indicator_mex]"
   ]
  },
  {
   "cell_type": "code",
   "execution_count": null,
   "id": "6ff1e9f9",
   "metadata": {},
   "outputs": [],
   "source": [
    "X_use.shape"
   ]
  },
  {
   "cell_type": "code",
   "execution_count": null,
   "id": "4ce7efef",
   "metadata": {},
   "outputs": [],
   "source": [
    "fig, axes = plt.subplots(ncols=2, nrows=1, figsize=(20, 10))\n",
    "\n",
    "axes[0].scatter(df_mex['logg'][X_use.index], m_logg.predict(X_use), color='g')\n",
    "axes[0].plot([0, 3.5], [0, 3.5], color='r')\n",
    "axes[1].scatter(df_mex['teff'][X_use.index], m_teff.predict(X_use), color='g')\n",
    "axes[1].plot([3500, 5500], [3500, 5500], color='r')"
   ]
  },
  {
   "cell_type": "code",
   "execution_count": null,
   "id": "6e947e47",
   "metadata": {},
   "outputs": [],
   "source": [
    "# Extend test set predictors with predicted teff, logg \n",
    "teff_test = m_teff.predict(X_use)\n",
    "logg_test = m_logg.predict(X_use)\n",
    "X_use['teff'] = teff_test\n",
    "X_use['logg'] = logg_test\n",
    "ind = X_use.index\n",
    "cols = X_use.columns\n",
    "X_use = normalizer.transform(X_use)\n",
    "X_use = pd.DataFrame(\n",
    "    data=X_use,\n",
    "    index=ind,\n",
    "    columns=cols\n",
    ")"
   ]
  },
  {
   "cell_type": "code",
   "execution_count": null,
   "id": "41104a5b",
   "metadata": {},
   "outputs": [],
   "source": [
    "y_use_predicted = nn_model.predict(X_use)\n",
    "y_min = min(min(y_use_predicted), min(y_use))\n",
    "# y_min = -1\n",
    "y_max = max(max(y_use_predicted), max(y_use))\n",
    "\n",
    "fig, axes = plt.subplots(ncols=1, nrows=1, figsize=(10, 10))\n",
    "\n",
    "axes.scatter(y_use, y_use_predicted, color='g', alpha=.6, label='additional')\n",
    "axes.plot([y_min, y_max], [y_min, y_max], color='g', linestyle=':')\n",
    "axes.set_xlim([y_min, y_max])\n",
    "axes.set_ylim([y_min, y_max])\n",
    "axes.set_title('True vs. predicted FeH on additional data set')\n",
    "axes.legend()\n",
    "axes.set_xlabel('true')\n",
    "axes.set_ylabel('predicted')\n",
    "\n",
    "print(f'Mean absolute error on additional data set: {mean_absolute_error(y_true=y_use, y_pred=y_use_predicted)}')\n",
    "print(f'r2 score on additional data set: {r2_score(y_true=y_use, y_pred=y_use_predicted)}')"
   ]
  },
  {
   "cell_type": "markdown",
   "id": "2fff3bce",
   "metadata": {},
   "source": [
    "### Re-model"
   ]
  },
  {
   "cell_type": "code",
   "execution_count": null,
   "id": "ddbecd6f",
   "metadata": {},
   "outputs": [],
   "source": [
    "use_apogee = False  # Whether to use teff and logg measurements while modelling Fe/H or predict teff and logg from magnitude diffs using linear regression."
   ]
  },
  {
   "cell_type": "code",
   "execution_count": null,
   "id": "fb5a6b45",
   "metadata": {},
   "outputs": [],
   "source": [
    "X_mex = df_diffs_filtered_mex\n",
    "X_mex = X_mex[['magcr3_magbr3', 'magbr3_magar3', 'jmag_kmag', 'bpmag_rpmag']]\n",
    "\n",
    "# Transform as Crni vrh\n",
    "X_mex['magcr3_magbr3'] = (X_mex['magcr3_magbr3']\n",
    "                          - df_mex['cb_field_shift'][X_mex.index]\n",
    "                          + .75)**(1/3)\n",
    "X_mex['magbr3_magar3'] = X_mex['magbr3_magar3'] - df['ba_field_shift'][X_mex.index]\n",
    "X_mex['jmag_kmag'] = (X_mex['jmag_kmag'])**(1/2)\n",
    "X_mex['bpmag_rpmag'] = (X_mex['bpmag_rpmag'])**(1/2)\n",
    "\n",
    "X_mex = X_mex[giant_indicator_mex]\n",
    "\n",
    "y_mex = df_mex['feh'][X_mex.index]\n",
    "X_mex_train, X_mex_test, y_mex_train, y_mex_test = train_test_split(X_mex, y_mex, test_size=0.25, random_state=314)"
   ]
  },
  {
   "cell_type": "code",
   "execution_count": null,
   "id": "61576294",
   "metadata": {},
   "outputs": [],
   "source": [
    "X_mex.shape"
   ]
  },
  {
   "cell_type": "code",
   "execution_count": null,
   "id": "8ff347d2",
   "metadata": {},
   "outputs": [],
   "source": [
    "if use_apogee:\n",
    "    # Use apogee's T and log(g)\n",
    "    X_mex = join_rows_from_raw(df_diffs_filtered_mex, df_mex, ['teff', 'logg'])\n",
    "    # Normalize\n",
    "    ind = X_mex.index\n",
    "    cols = X_mex.columns\n",
    "    normalizer = StandardScaler()\n",
    "    X_mex = normalizer.fit_transform(X_mex)\n",
    "    X_mex = pd.DataFrame(\n",
    "        data=X_mex,\n",
    "        index=ind,\n",
    "        columns=cols\n",
    "    )\n",
    "else:\n",
    "    # Model T and log(g) ...\n",
    "    teff = df_mex['teff'][X_mex_train.index]\n",
    "    m_teff = LinearRegression()\n",
    "    m_teff.fit(X_mex_train, teff)\n",
    "    teff_calc = m_teff.predict(X_mex_train)\n",
    "    logg = df['logg'][X_mex_train.index]\n",
    "    m_logg = LinearRegression()\n",
    "    m_logg.fit(X_mex_train, logg)\n",
    "    logg_calc = m_logg.predict(X_mex_train)\n",
    "    X_mex_train['teff'] = teff_calc\n",
    "    X_mex_train['logg'] = logg_calc\n",
    "\n",
    "    ind = X_mex_train.index\n",
    "    cols = X_mex_train.columns\n",
    "    normalizer = StandardScaler()\n",
    "    X_mex_train = normalizer.fit_transform(X_mex_train)\n",
    "    X_mex_train = pd.DataFrame(\n",
    "        data=X_mex_train,\n",
    "        index=ind,\n",
    "        columns=cols\n",
    "    )\n",
    "    # ... and extend test set predictors with predicted teff, logg \n",
    "    teff_test = m_teff.predict(X_mex_test)\n",
    "    logg_test = m_logg.predict(X_mex_test)\n",
    "    X_mex_test['teff'] = teff_test\n",
    "    X_mex_test['logg'] = logg_test\n",
    "    ind = X_mex_test.index\n",
    "    cols = X_mex_test.columns\n",
    "    X_mex_test = normalizer.transform(X_mex_test)\n",
    "    X_mex_test = pd.DataFrame(\n",
    "        data=X_mex_test,\n",
    "        index=ind,\n",
    "        columns=cols\n",
    "    )\n"
   ]
  },
  {
   "cell_type": "code",
   "execution_count": null,
   "id": "6589c452",
   "metadata": {},
   "outputs": [],
   "source": [
    "nn_model = MLPRegressor(hidden_layer_sizes=(9,), activation='logistic', solver='lbfgs', max_iter=4000, random_state=316)\n",
    "#X_train = X_train[['magbr3_magar3', 'magcr3_magbr3', 'jmag_kmag', 'bpmag_rpmag', 'teff']]\n",
    "#X_test = X_test[['magbr3_magar3', 'magcr3_magbr3', 'jmag_kmag', 'bpmag_rpmag', 'teff']]\n",
    "nn_model.fit(X_mex_train, y_mex_train)"
   ]
  },
  {
   "cell_type": "code",
   "execution_count": null,
   "id": "28de349b",
   "metadata": {},
   "outputs": [],
   "source": [
    "y_train_predicted = nn_model.predict(X_mex_train)\n",
    "y_test_predicted = nn_model.predict(X_mex_test)\n",
    "y_min = min(min(y_mex_train), min(y_mex_test), min(y_train_predicted), min(y_test_predicted))\n",
    "# y_min = -1\n",
    "y_max = max(max(y_mex_train), max(y_mex_test), max(y_train_predicted), max(y_test_predicted))\n",
    "\n",
    "fig, axes = plt.subplots(ncols=1, nrows=1, figsize=(10, 10))\n",
    "\n",
    "axes.scatter(y_mex_train, y_train_predicted, color='b', alpha=.6, label='train')\n",
    "axes.scatter(y_mex_test, y_test_predicted, color='r', alpha=.6, label='test')\n",
    "axes.plot([y_min, y_max], [y_min, y_max], color='g', linestyle=':')\n",
    "axes.set_xlim([y_min, y_max])\n",
    "axes.set_ylim([y_min, y_max])\n",
    "axes.set_title('True vs. predicted FeH on train and test set')\n",
    "axes.legend()\n",
    "axes.set_xlabel('true')\n",
    "axes.set_ylabel('predicted')\n",
    "\n",
    "print(f'Mean absolute error on train set: {mean_absolute_error(y_true=y_mex_train, y_pred=y_train_predicted)}')\n",
    "print(f'r2 score on train set: {r2_score(y_true=y_mex_train, y_pred=y_train_predicted)}')\n",
    "\n",
    "print(f'Mean absolute error on test set: {mean_absolute_error(y_true=y_mex_test, y_pred=y_test_predicted)}')\n",
    "print(f'r2 score on test set: {r2_score(y_true=y_mex_test, y_pred=y_test_predicted)}')"
   ]
  },
  {
   "cell_type": "markdown",
   "id": "4978ac3e",
   "metadata": {},
   "source": [
    "#### Try remodeled Fe/H on allMex with Gaia and MASS"
   ]
  },
  {
   "cell_type": "code",
   "execution_count": null,
   "id": "7dd43b4c",
   "metadata": {},
   "outputs": [],
   "source": [
    "# load the data\n",
    "df_allmex = load_data(filename='masterallmatchwithGaiaand2MASS.csv')\n",
    "# clean column names\n",
    "df_allmex.columns = [x.strip(' |#') for x in df_allmex.columns]  # clean the column names"
   ]
  },
  {
   "cell_type": "code",
   "execution_count": null,
   "id": "7c27be47",
   "metadata": {},
   "outputs": [],
   "source": [
    "f = None\n",
    "\n",
    "# Take all the data wfrom the selected field where\n",
    "# J, K, Bp, Rp magnitudes as well as parallax are given\n",
    "field_all_data_filter = (df_allmex.field==f if f is not None else 1-df_allmex.field.isnull()) * (1-df_allmex.j_m.isnull()) \\\n",
    "    * (1-df_allmex.ks_m.isnull()) * (1-df_allmex.phot_bp_mean_mag.isnull()) * (1-df_allmex.phot_rp_mean_mag.isnull())\n",
    "print(f'Field {f} has {sum(field_all_data_filter)} points with all the data.')\n",
    "\n",
    "df_filtered = df_allmex[field_all_data_filter==1]\n",
    "df_filtered['cb_field_shift'] = df_filtered['field'].map(cb_field_shifts)\n",
    "df_filtered['ba_field_shift'] = df_filtered['field'].map(ba_field_shifts)\n",
    "ordered_mag_columns = ['magcr3', 'magbr3', 'magar3', 'phot_bp_mean_mag', 'phot_rp_mean_mag', 'j_m', 'ks_m']\n",
    "df_diffs = get_magnitude_diffs(df_filtered, ordered_mag_columns)[['magcr3_magbr3', 'magbr3_magar3', 'phot_bp_mean_mag_phot_rp_mean_mag', 'j_m_ks_m']]\n",
    "df_diffs.columns = ['magbr3_magar3', 'magcr3_magbr3', 'bpmag_rpmag', 'jmag_kmag']\n",
    "# Drop also the columns with out-of-range B-A, C-B magnitude diffs\n",
    "df_filtered = df_filtered[(df_diffs['magcr3_magbr3']>-4) \n",
    "    * (df_diffs['magcr3_magbr3']<4)\n",
    "    * (df_diffs['magbr3_magar3']<4)]\n",
    "df_diffs = df_diffs[(df_diffs['magcr3_magbr3']>-4) \n",
    "    * (df_diffs['magcr3_magbr3']<4)\n",
    "    * (df_diffs['magbr3_magar3']<4)]\n",
    "X_mex = df_diffs[['magbr3_magar3', 'magcr3_magbr3', 'jmag_kmag', 'bpmag_rpmag']]\n",
    "print(f'After C-B, B-A out-of-range filtering, there remains {X_mex.shape[0]} observations from field {f}.')"
   ]
  },
  {
   "cell_type": "code",
   "execution_count": null,
   "id": "38829578",
   "metadata": {},
   "outputs": [],
   "source": [
    "X_mex.shape, X_mex.columns"
   ]
  },
  {
   "cell_type": "code",
   "execution_count": null,
   "id": "c276fa07",
   "metadata": {},
   "outputs": [],
   "source": [
    "# df_allmex['teff'] = (df_allmex['teff_gspspec_lower'] + df_allmex['teff_gspspec_upper'])/2\n",
    "# df_allmex['logg'] = (df_allmex['logg_gspspec_lower'] + df_allmex['logg_gspspec_upper'])/2\n",
    "# X_mex = join_rows_from_raw(X_mex, df_allmex, ['teff', 'logg'])\n",
    "\n",
    "# X_mex = join_rows_from_raw(X_mex, df_filtered, ['teff_gspspec', 'logg_gspspec'])\n",
    "# X_mex.columns = ['magbr3_magar3', 'magcr3_magbr3', 'jmag_kmag', 'bpmag_rpmag', 'teff', 'logg']\n",
    "\n",
    "# Transform as Crni vrh\n",
    "X_mex['magcr3_magbr3'] = (X_mex['magcr3_magbr3']\n",
    "                          - df_filtered['cb_field_shift'][X_mex.index]\n",
    "                          + .75)**(1/3)\n",
    "X_mex['magbr3_magar3'] = X_mex['magbr3_magar3'] - df_filtered['ba_field_shift'][X_mex.index]\n",
    "X_mex['jmag_kmag'] = (X_mex['jmag_kmag'])**(1/2)\n",
    "X_mex['bpmag_rpmag'] = (X_mex['bpmag_rpmag'])**(1/2)\n",
    "\n",
    "X_mex.dropna(inplace=True)\n",
    "print(X_mex.shape)"
   ]
  },
  {
   "cell_type": "code",
   "execution_count": null,
   "id": "d8c9f491",
   "metadata": {},
   "outputs": [],
   "source": [
    "teff_mex = m_teff.predict(X_mex)\n",
    "logg_mex = m_logg.predict(X_mex)\n",
    "X_mex['teff'] = teff_mex\n",
    "X_mex['logg'] = logg_mex\n",
    "\n",
    "ind = X_mex.index\n",
    "cols = X_mex.columns\n",
    "X_mex = normalizer.transform(X_mex)\n",
    "X_mex = pd.DataFrame(\n",
    "    data=X_mex,\n",
    "    index=ind,\n",
    "    columns=cols\n",
    ")\n",
    "\n",
    "y_mex = df_allmex['mh_gspspec'][ind]"
   ]
  },
  {
   "cell_type": "code",
   "execution_count": null,
   "id": "4adf07f4",
   "metadata": {},
   "outputs": [],
   "source": [
    "X_mex.shape, y_mex.shape, sum(y_mex.isnull())"
   ]
  },
  {
   "cell_type": "code",
   "execution_count": null,
   "id": "ca2abfa6",
   "metadata": {},
   "outputs": [],
   "source": [
    "X_mex = X_mex[~y_mex.isnull()]\n",
    "y_mex = y_mex[~y_mex.isnull()]"
   ]
  },
  {
   "cell_type": "code",
   "execution_count": null,
   "id": "b72a383d",
   "metadata": {},
   "outputs": [],
   "source": [
    "X_mex.shape, y_mex.shape"
   ]
  },
  {
   "cell_type": "code",
   "execution_count": null,
   "id": "81d9e0f7",
   "metadata": {},
   "outputs": [],
   "source": [
    "y_predicted = nn_model.predict(X_mex)\n",
    "y_min = min(min(y_predicted), min(y_mex))\n",
    "# y_min = -1\n",
    "y_max = max(max(y_predicted), max(y_mex))\n",
    "\n",
    "fig, axes = plt.subplots(ncols=1, nrows=1, figsize=(10, 10))\n",
    "\n",
    "axes.scatter(y_mex, y_predicted, color='g', label='mex')\n",
    "axes.plot([y_min, y_max], [y_min, y_max], color='k', linestyle=':')\n",
    "axes.set_xlim([y_min, y_max])\n",
    "axes.set_ylim([y_min, y_max])\n",
    "axes.set_title('True vs. predicted FeH on additional Mexico data set')\n",
    "axes.legend()\n",
    "axes.set_xlabel('true')\n",
    "axes.set_ylabel('predicted')\n",
    "\n",
    "print(f'Mean absolute error on train set: {mean_absolute_error(y_true=y_mex, y_pred=y_predicted)}')\n",
    "print(f'r2 score on train set: {r2_score(y_true=y_mex, y_pred=y_predicted)}')"
   ]
  },
  {
   "cell_type": "markdown",
   "id": "85ff96fd",
   "metadata": {},
   "source": [
    "## Appendix: predictors' correlations"
   ]
  },
  {
   "cell_type": "code",
   "execution_count": null,
   "id": "e7a8e699",
   "metadata": {},
   "outputs": [],
   "source": [
    "fig, axes = plt.subplots(ncols=2, nrows=3, figsize=(20, 30))\n",
    "axes[0, 0].scatter(X['magcr3_magbr3'], X['magbr3_magar3'])\n",
    "axes[0, 0].set_title('magcr3_magbr3 vs. magbr3_magar3')\n",
    "axes[0, 1].scatter(X['magcr3_magbr3'], X['jmag_kmag'])\n",
    "axes[0, 1].set_title('magcr3_magbr3 vs. jmag_kmag')\n",
    "axes[1, 0].scatter(X['magcr3_magbr3'], X['bpmag_rpmag'])\n",
    "axes[1, 0].set_title('magcr3_magbr3 vs. bpmag_rpmag')\n",
    "axes[1, 1].scatter(X['magbr3_magar3'], X['jmag_kmag'])\n",
    "axes[1, 1].set_title('magbr3_magar3 vs. jmag_kmag')\n",
    "axes[2, 0].scatter(X['bpmag_rpmag'], X['jmag_kmag'])\n",
    "axes[2, 0].set_title('bpmag_rpmag vs. jmag_kmag')\n",
    "axes[2, 1].scatter(X['magbr3_magar3'], X['bpmag_rpmag'])\n",
    "axes[2, 1].set_title('magbr3_magar3 vs. bpmag_rpmag')"
   ]
  },
  {
   "cell_type": "code",
   "execution_count": null,
   "id": "85d00abb",
   "metadata": {},
   "outputs": [],
   "source": [
    "np.corrcoef(np.transpose(X_use))"
   ]
  },
  {
   "cell_type": "markdown",
   "id": "5036ad74",
   "metadata": {},
   "source": [
    "## Appendix: clusters"
   ]
  },
  {
   "cell_type": "code",
   "execution_count": null,
   "id": "0d7d4130",
   "metadata": {},
   "outputs": [],
   "source": [
    "# load the data\n",
    "df_allmex = load_data(filename='mexico_all.csv')\n",
    "# drop last columns\n",
    "df_allmex.drop(df_allmex.columns[-1], axis=1, inplace=True)  # last column is empty when loaded\n",
    "# clean column names\n",
    "df_allmex.columns = [x.strip(' |#') for x in df_allmex.columns]  # clean the column names\n"
   ]
  },
  {
   "cell_type": "code",
   "execution_count": null,
   "id": "ba35e42e",
   "metadata": {},
   "outputs": [],
   "source": [
    "# plt.scatter(df_allmex['xx'], df_allmex['yy'])\n",
    "for f in set(df_allmex.field):\n",
    "    plt.scatter(df_allmex['alfa'][df_allmex['field']==f], df_allmex['delta'][df_allmex['field']==f], label=f)\n",
    "plt.xlim([25, 300])\n",
    "plt.xlabel('alpha')\n",
    "plt.ylabel('delta')\n",
    "plt.title('alpha vs. delta by fields')\n",
    "plt.legend()"
   ]
  },
  {
   "cell_type": "code",
   "execution_count": null,
   "id": "16df5414",
   "metadata": {},
   "outputs": [],
   "source": [
    "# df_allmex[(df_allmex['delta']>10) * ]\n",
    "fig, axes = plt.subplots(ncols=2, nrows=13, figsize=(20, 130))\n",
    "for e, f in enumerate(list(set(df_allmex.field))):\n",
    "    axes[int(e/2), e%2].scatter(df_allmex['alfa'][df_allmex['field']==f], df_allmex['delta'][df_allmex['field']==f])\n",
    "    axes[int(e/2), e%2].set_title(f)"
   ]
  },
  {
   "cell_type": "markdown",
   "id": "1c83f570",
   "metadata": {},
   "source": [
    "### Extended with 2MASS (J, K, Bp & Rp magnitudes)"
   ]
  },
  {
   "cell_type": "code",
   "execution_count": null,
   "id": "4a659eb7",
   "metadata": {},
   "outputs": [],
   "source": [
    "# load the data\n",
    "df_allmex = load_data(filename='masterallmatchwithGaiaand2MASS.csv')\n",
    "# clean column names\n",
    "df_allmex.columns = [x.strip(' |#') for x in df_allmex.columns]  # clean the column names"
   ]
  },
  {
   "cell_type": "code",
   "execution_count": null,
   "id": "cdc43fb0",
   "metadata": {},
   "outputs": [],
   "source": [
    "df_allmex.columns"
   ]
  },
  {
   "cell_type": "code",
   "execution_count": null,
   "id": "2bbbdcf8",
   "metadata": {},
   "outputs": [],
   "source": [
    "f = 'Zwitter-007'  # In this field, we expect cluster\n",
    "\n",
    "# Take all the data wfrom the selected field where\n",
    "# J, K, Bp, Rp magnitudes as well as parallax are given\n",
    "field_all_data_filter = (df_allmex.field==f if f is not None else 1-df_allmex.field.isnull()) * (1-df_allmex.parallax.isnull()) * (1-df_allmex.j_m.isnull()) \\\n",
    "    * (1-df_allmex.ks_m.isnull()) * (1-df_allmex.phot_bp_mean_mag.isnull()) * (1-df_allmex.phot_rp_mean_mag.isnull())\n",
    "print(f'Field {f} has {sum(field_all_data_filter)} points with all the data.')\n",
    "\n",
    "df_filtered = df_allmex[field_all_data_filter==1]\n",
    "df_filtered['cb_field_shift'] = df_filtered['field'].map(cb_field_shifts)\n",
    "df_filtered['ba_field_shift'] = df_filtered['field'].map(ba_field_shifts)\n",
    "ordered_mag_columns = ['magcr3', 'magbr3', 'magar3', 'phot_bp_mean_mag', 'phot_rp_mean_mag', 'j_m', 'ks_m']\n",
    "df_diffs = get_magnitude_diffs(df_filtered, ordered_mag_columns)[['magcr3_magbr3', 'magbr3_magar3', 'phot_bp_mean_mag_phot_rp_mean_mag', 'j_m_ks_m']]\n",
    "df_diffs.columns = ['magbr3_magar3', 'magcr3_magbr3', 'bpmag_rpmag', 'jmag_kmag']\n",
    "# Drop also the columns with out-of-range B-A, C-B magnitude diffs\n",
    "df_filtered = df_filtered[(df_diffs['magcr3_magbr3']>-4) \n",
    "    * (df_diffs['magcr3_magbr3']<4)\n",
    "    * (df_diffs['magbr3_magar3']<4)]\n",
    "df_diffs = df_diffs[(df_diffs['magcr3_magbr3']>-4) \n",
    "    * (df_diffs['magcr3_magbr3']<4)\n",
    "    * (df_diffs['magbr3_magar3']<4)]\n",
    "X_mex = df_diffs[['magbr3_magar3', 'magcr3_magbr3', 'jmag_kmag', 'bpmag_rpmag']]\n",
    "print(f'After C-B, B-A out-of-range filtering, there remains {X_mex.shape[0]} observations from field {f}.')"
   ]
  },
  {
   "cell_type": "code",
   "execution_count": null,
   "id": "9f7f82c1",
   "metadata": {},
   "outputs": [],
   "source": [
    "fig = plt.figure(figsize=(10, 10))\n",
    "#axes = figure.add_subplot(projection='3d')\n",
    "#fig, axes = plt.subplots(ncols=2, nrows=13, figsize=(20, 130), projection='3d')\n",
    "filter_paralax = (0 < 1/df_filtered['parallax']) * (1/df_filtered['parallax'] < 10)\n",
    "\n",
    "axes = fig.add_subplot(1, 1, 1, projection='3d')\n",
    "axes.scatter(df_filtered['alfa'][filter_paralax], df_filtered['delta'][filter_paralax], 1/df_filtered['parallax'][filter_paralax])\n",
    "axes.set_title(f)"
   ]
  },
  {
   "cell_type": "code",
   "execution_count": null,
   "id": "f42be2d0",
   "metadata": {},
   "outputs": [],
   "source": [
    "plt.hist(1/df_filtered['parallax'][(df_filtered['parallax']>1/10)], bins=40)"
   ]
  },
  {
   "cell_type": "code",
   "execution_count": null,
   "id": "22a1117b",
   "metadata": {},
   "outputs": [],
   "source": [
    "for c in ['magbr3_magar3', 'jmag_kmag', 'bpmag_rpmag', 'magcr3_magbr3']:  # X_use.columns:\n",
    "    plt.hist(X_mex[c], label=c, bins=40)\n",
    "    plt.xlim([-1, 2])\n",
    "plt.legend()"
   ]
  },
  {
   "cell_type": "code",
   "execution_count": null,
   "id": "4726a949",
   "metadata": {},
   "outputs": [],
   "source": [
    "X_mex['magcr3_magbr3'] = (X_mex['magcr3_magbr3'] - df_filtered['cb_field_shift'] + .75)**(1/3)\n",
    "X_mex['magbr3_magar3'] = X_mex['magbr3_magar3'] - df_filtered['ba_field_shift']\n",
    "X_mex['jmag_kmag'] = (X_mex['jmag_kmag'])**(1/2)\n",
    "X_mex['bpmag_rpmag'] = (X_mex['bpmag_rpmag'])**(1/2)\n",
    "\n",
    "X_mex = X_mex.dropna()\n",
    "df_filtered = df_filtered.loc[X_mex.index]\n",
    "X_mex.shape"
   ]
  },
  {
   "cell_type": "code",
   "execution_count": null,
   "id": "93f71e61",
   "metadata": {},
   "outputs": [],
   "source": [
    "for c in ['magbr3_magar3', 'jmag_kmag', 'bpmag_rpmag', 'magcr3_magbr3']:  # X_mex.columns:\n",
    "    plt.hist(X_mex[c], label=c, bins=40)\n",
    "    plt.xlim([-1, 2])\n",
    "plt.legend()"
   ]
  },
  {
   "cell_type": "code",
   "execution_count": null,
   "id": "9df21c32",
   "metadata": {},
   "outputs": [],
   "source": [
    "teff_mex = m_teff.predict(X_mex)\n",
    "logg_mex = m_logg.predict(X_mex)"
   ]
  },
  {
   "cell_type": "code",
   "execution_count": null,
   "id": "1364ebde",
   "metadata": {},
   "outputs": [],
   "source": [
    "dist_filter = (1/df_filtered['parallax']<2.1)*(1/df_filtered['parallax']>1.9)\n",
    "\n",
    "fig, axes = plt.subplots(ncols=2, nrows=1, figsize=(20, 10))\n",
    "axes[0].scatter(df_filtered['teff_gspphot'], teff_mex, label='all')\n",
    "axes[0].scatter(df_filtered['teff_gspphot'][df_filtered['logg_gspphot']<3.5], teff_mex[df_filtered['logg_gspphot']<3.5], color='r', label='giants')\n",
    "axes[0].scatter(df_filtered['teff_gspphot'][dist_filter], teff_mex[dist_filter],\n",
    "                color='k', marker='+', label='cluster')\n",
    "axes[0].plot([4000, 8000], [4000, 8000], color='g')\n",
    "axes[0].set_title(f'teff from magnitude diffs on Mexico observations field {f}')\n",
    "axes[0].set_xlabel('true')\n",
    "axes[0].set_xlim([4000, 8000])\n",
    "axes[0].set_ylabel('predicted')\n",
    "axes[0].legend()\n",
    "# axes[0].plot([y_min, y_max], [y_min, y_max], color='r')\n",
    "\n",
    "axes[1].scatter(df_filtered['logg_gspphot'], logg_mex, label='all')\n",
    "axes[1].scatter(df_filtered['logg_gspphot'][df_filtered['logg_gspphot']<3.5], logg_mex[df_filtered['logg_gspphot']<3.5], color='r', label='giants')\n",
    "axes[1].scatter(df_filtered['logg_gspphot'][dist_filter], logg_mex[dist_filter],\n",
    "                color='k', marker='+', label='cluster')\n",
    "axes[1].plot([1.5, 5], [1.5, 5], color='g')\n",
    "axes[1].set_title(f'logg from magnitude diffs on Mexico observations field {f}')\n",
    "axes[1].set_xlabel('true')\n",
    "axes[1].set_xlim([1.5, 5])\n",
    "axes[1].set_ylabel('predicted')\n",
    "axes[1].legend()\n",
    "# axes[1].plot([y_min, y_max], [y_min, y_max], color='r')\n",
    "\n",
    "print(mean_absolute_error(df_filtered['teff_gspphot'][df_filtered['logg_gspphot']<3.5], teff_mex[df_filtered['logg_gspphot']<3.5]))"
   ]
  },
  {
   "cell_type": "code",
   "execution_count": null,
   "id": "8e0b5b59",
   "metadata": {},
   "outputs": [],
   "source": [
    "plt.hist(df_filtered['mh_gspphot'], bins=40, color='b')\n",
    "plt.hist(df_filtered['mh_gspphot'][dist_filter], bins=40, color='r')\n"
   ]
  },
  {
   "cell_type": "code",
   "execution_count": null,
   "id": "f6ba32d0",
   "metadata": {},
   "outputs": [],
   "source": [
    "X_mex['teff'] = teff_mex\n",
    "X_mex['logg'] = logg_mex\n",
    "ind = X_mex.index\n",
    "cols = X_mex.columns\n",
    "X_mex = normalizer.transform(X_mex)\n",
    "X_mex = pd.DataFrame(\n",
    "    data=X_mex,\n",
    "    index=ind,\n",
    "    columns=cols\n",
    ")"
   ]
  },
  {
   "cell_type": "code",
   "execution_count": null,
   "id": "d2c90c5c",
   "metadata": {},
   "outputs": [],
   "source": [
    "plt.hist(nn_model.predict(X_mex), bins=40, color='r', alpha=.5)\n",
    "plt.hist(nn_model.predict(X_mex[dist_filter]), bins=40, color='g', alpha=.5)"
   ]
  },
  {
   "cell_type": "code",
   "execution_count": null,
   "id": "3f7a1b8a",
   "metadata": {},
   "outputs": [],
   "source": []
  }
 ],
 "metadata": {
  "interpreter": {
   "hash": "242fb8207f97c296f33acf6c366d1e468ec158fb77fc4d51a9c4c6884f3da01a"
  },
  "kernelspec": {
   "display_name": "Python 3.10.4 ('p2ch')",
   "language": "python",
   "name": "python3"
  },
  "language_info": {
   "codemirror_mode": {
    "name": "ipython",
    "version": 3
   },
   "file_extension": ".py",
   "mimetype": "text/x-python",
   "name": "python",
   "nbconvert_exporter": "python",
   "pygments_lexer": "ipython3",
   "version": "3.10.4"
  }
 },
 "nbformat": 4,
 "nbformat_minor": 5
}
